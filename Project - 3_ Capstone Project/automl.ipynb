{
  "cells": [
    {
      "cell_type": "markdown",
      "source": [
        "# Automated ML - Stroke Prediction\n",
        "\n",
        "Import Dependencies. In the cell below, import all the dependencies that you will need to complete the project."
      ],
      "metadata": {}
    },
    {
      "cell_type": "code",
      "source": [
        "from azureml.core import Workspace, Experiment\n",
        "from azureml.core.compute import ComputeTarget, AmlCompute\n",
        "from azureml.core.compute_target import ComputeTargetException\n",
        "from azureml.widgets import RunDetails\n",
        "from azureml.train.sklearn import SKLearn\n",
        "from azureml.train.hyperdrive.run import PrimaryMetricGoal\n",
        "from azureml.train.hyperdrive.policy import BanditPolicy\n",
        "from azureml.train.hyperdrive.sampling import RandomParameterSampling\n",
        "from azureml.train.hyperdrive.runconfig import HyperDriveConfig\n",
        "from azureml.train.hyperdrive.parameter_expressions import choice, uniform\n",
        "from azureml.core import Environment, ScriptRunConfig\n",
        "from azureml.core.experiment import Experiment\n",
        "import joblib\n",
        "import os\n",
        "from azureml.data.dataset_factory import TabularDatasetFactory\n",
        "from azureml.core import Dataset\n",
        "import pandas as pd\n",
        "from azureml.train.automl import AutoMLConfig\n",
        "from azureml.core.webservice import AciWebservice\n",
        "import requests # Used for http post request\n",
        "import json\n",
        "from azureml.core.environment import Environment\n",
        "from azureml.core.model import InferenceConfig\n",
        "from azureml.core import Model # Used to get model information"
      ],
      "outputs": [],
      "execution_count": 15,
      "metadata": {
        "gather": {
          "logged": 1653468129440
        },
        "jupyter": {
          "outputs_hidden": false,
          "source_hidden": false
        },
        "nteract": {
          "transient": {
            "deleting": false
          }
        }
      }
    },
    {
      "cell_type": "markdown",
      "source": [
        "## Dataset\n",
        "### Context\n",
        "\n",
        "According to the World Health Organization (WHO) stroke is the 2nd leading cause of death globally, responsible for approximately 11% of total deaths.\n",
        "This dataset is used to predict whether a patient is likely to get stroke based on the input parameters like gender, age, various diseases, and smoking status. Each row in the data provides relavant information about the patient.\n",
        "\n",
        "### Overview\n",
        "The data is provided via the following Kaggle source: https://www.kaggle.com/datasets/fedesoriano/stroke-prediction-dataset\n",
        "\n",
        "The data is provided as a .csv file and ist structured as followed.\n",
        "\n",
        "Attribute Information:\n",
        "1) id: unique identifier\n",
        "2) gender: \"Male\", \"Female\" or \"Other\"\n",
        "3) age: age of the patient\n",
        "4) hypertension: 0 if the patient doesn't have hypertension, 1 if the patient has hypertension\n",
        "5) heart_disease: 0 if the patient doesn't have any heart diseases, 1 if the patient has a heart disease\n",
        "6) ever_married: \"No\" or \"Yes\"\n",
        "7) work_type: \"children\", \"Govt_jov\", \"Never_worked\", \"Private\" or \"Self-employed\"\n",
        "8) Residence_type: \"Rural\" or \"Urban\"\n",
        "9) avg_glucose_level: average glucose level in blood\n",
        "10) bmi: body mass index\n",
        "11) smoking_status: \"formerly smoked\", \"never smoked\", \"smokes\" or \"Unknown\"*\n",
        "12) stroke: 1 if the patient had a stroke or 0 if not\n",
        "*Note: \"Unknown\" in smoking_status means that the information is unavailable for this patient"
      ],
      "metadata": {}
    },
    {
      "cell_type": "markdown",
      "source": [
        "# Create Workspace"
      ],
      "metadata": {
        "nteract": {
          "transient": {
            "deleting": false
          }
        }
      }
    },
    {
      "cell_type": "code",
      "source": [
        "ws = Workspace.from_config()"
      ],
      "outputs": [],
      "execution_count": 2,
      "metadata": {
        "jupyter": {
          "source_hidden": false,
          "outputs_hidden": false
        },
        "nteract": {
          "transient": {
            "deleting": false
          }
        },
        "gather": {
          "logged": 1653466143029
        }
      }
    },
    {
      "cell_type": "markdown",
      "source": [
        "## Load data from Datastore"
      ],
      "metadata": {
        "collapsed": false
      }
    },
    {
      "cell_type": "code",
      "source": [
        "found = False\n",
        "key = \"Stroke Dataset\"\n",
        "description_text = \"This dataset is used to predict whether a patient is likely to get stroke.\"\n",
        "\n",
        "if key in ws.datasets.keys():\n",
        "        found = True\n",
        "        dataset = ws.datasets[key]\n",
        "\n",
        "if not found:\n",
        "        # Create AML Dataset and register it into Workspace\n",
        "        example_data = 'https://raw.githubusercontent.com/jmtaverne/Udacity--Machine-Learning-Azure-Nanodegree/main/Project%20-%203_%20Capstone%20Project/healthcare-dataset-stroke-data.csv'\n",
        "        dataset = Dataset.Tabular.from_delimited_files(example_data)\n",
        "        #Register Dataset in Workspace\n",
        "        dataset = dataset.register(workspace=ws,\n",
        "                                   name=key,\n",
        "                                   description=description_text)\n",
        "\n",
        "\n",
        "df = dataset.to_pandas_dataframe()\n",
        "df.describe()"
      ],
      "outputs": [
        {
          "output_type": "execute_result",
          "execution_count": 3,
          "data": {
            "text/plain": "                 id          age  hypertension  heart_disease  \\\ncount   5110.000000  5110.000000   5110.000000    5110.000000   \nmean   36517.829354    43.226614      0.097456       0.054012   \nstd    21161.721625    22.612647      0.296607       0.226063   \nmin       67.000000     0.080000      0.000000       0.000000   \n25%    17741.250000    25.000000      0.000000       0.000000   \n50%    36932.000000    45.000000      0.000000       0.000000   \n75%    54682.000000    61.000000      0.000000       0.000000   \nmax    72940.000000    82.000000      1.000000       1.000000   \n\n       avg_glucose_level       stroke  \ncount        5110.000000  5110.000000  \nmean          106.147677     0.048728  \nstd            45.283560     0.215320  \nmin            55.120000     0.000000  \n25%            77.245000     0.000000  \n50%            91.885000     0.000000  \n75%           114.090000     0.000000  \nmax           271.740000     1.000000  ",
            "text/html": "<div>\n<style scoped>\n    .dataframe tbody tr th:only-of-type {\n        vertical-align: middle;\n    }\n\n    .dataframe tbody tr th {\n        vertical-align: top;\n    }\n\n    .dataframe thead th {\n        text-align: right;\n    }\n</style>\n<table border=\"1\" class=\"dataframe\">\n  <thead>\n    <tr style=\"text-align: right;\">\n      <th></th>\n      <th>id</th>\n      <th>age</th>\n      <th>hypertension</th>\n      <th>heart_disease</th>\n      <th>avg_glucose_level</th>\n      <th>stroke</th>\n    </tr>\n  </thead>\n  <tbody>\n    <tr>\n      <th>count</th>\n      <td>5110.000000</td>\n      <td>5110.000000</td>\n      <td>5110.000000</td>\n      <td>5110.000000</td>\n      <td>5110.000000</td>\n      <td>5110.000000</td>\n    </tr>\n    <tr>\n      <th>mean</th>\n      <td>36517.829354</td>\n      <td>43.226614</td>\n      <td>0.097456</td>\n      <td>0.054012</td>\n      <td>106.147677</td>\n      <td>0.048728</td>\n    </tr>\n    <tr>\n      <th>std</th>\n      <td>21161.721625</td>\n      <td>22.612647</td>\n      <td>0.296607</td>\n      <td>0.226063</td>\n      <td>45.283560</td>\n      <td>0.215320</td>\n    </tr>\n    <tr>\n      <th>min</th>\n      <td>67.000000</td>\n      <td>0.080000</td>\n      <td>0.000000</td>\n      <td>0.000000</td>\n      <td>55.120000</td>\n      <td>0.000000</td>\n    </tr>\n    <tr>\n      <th>25%</th>\n      <td>17741.250000</td>\n      <td>25.000000</td>\n      <td>0.000000</td>\n      <td>0.000000</td>\n      <td>77.245000</td>\n      <td>0.000000</td>\n    </tr>\n    <tr>\n      <th>50%</th>\n      <td>36932.000000</td>\n      <td>45.000000</td>\n      <td>0.000000</td>\n      <td>0.000000</td>\n      <td>91.885000</td>\n      <td>0.000000</td>\n    </tr>\n    <tr>\n      <th>75%</th>\n      <td>54682.000000</td>\n      <td>61.000000</td>\n      <td>0.000000</td>\n      <td>0.000000</td>\n      <td>114.090000</td>\n      <td>0.000000</td>\n    </tr>\n    <tr>\n      <th>max</th>\n      <td>72940.000000</td>\n      <td>82.000000</td>\n      <td>1.000000</td>\n      <td>1.000000</td>\n      <td>271.740000</td>\n      <td>1.000000</td>\n    </tr>\n  </tbody>\n</table>\n</div>"
          },
          "metadata": {}
        }
      ],
      "execution_count": 3,
      "metadata": {
        "collapsed": false,
        "pycharm": {
          "name": "#%%\n"
        },
        "gather": {
          "logged": 1653466154978
        }
      }
    },
    {
      "cell_type": "markdown",
      "source": [
        "## Create compute cluster"
      ],
      "metadata": {
        "collapsed": false
      }
    },
    {
      "cell_type": "code",
      "source": [
        "from azureml.core.compute import ComputeTarget, AmlCompute\n",
        "from azureml.core.compute_target import ComputeTargetException\n",
        "\n",
        "cluster_name = \"Udactiy-Project-Cluster\"\n",
        "\n",
        "# Verify that cluster does not exist already\n",
        "try:\n",
        "    aml_compute = ComputeTarget(workspace=ws, name=cluster_name)\n",
        "    print('Found existing cluster, use it.')\n",
        "except ComputeTargetException:\n",
        "    compute_config = AmlCompute.provisioning_configuration(vm_size='Standard_D2_V2',\n",
        "                                                           max_nodes=4)\n",
        "    aml_compute = ComputeTarget.create(ws, cluster_name, compute_config)\n",
        "\n",
        "aml_compute.wait_for_completion(show_output=True)\n",
        "\n"
      ],
      "outputs": [
        {
          "output_type": "stream",
          "name": "stdout",
          "text": "InProgress.\nSucceededProvisioning operation finished, operation \"Succeeded\"\nSucceeded\nAmlCompute wait for completion finished\n\nMinimum number of nodes requested have been provisioned\n"
        }
      ],
      "execution_count": 4,
      "metadata": {
        "collapsed": false,
        "pycharm": {
          "name": "#%%\n"
        },
        "gather": {
          "logged": 1653466172672
        }
      }
    },
    {
      "cell_type": "markdown",
      "source": [
        "## Create experiment"
      ],
      "metadata": {
        "collapsed": false
      }
    },
    {
      "cell_type": "code",
      "source": [
        "# choose a name for experiment\n",
        "experiment_name = 'Stroke_prediction'\n",
        "\n",
        "experiment=Experiment(ws, experiment_name)"
      ],
      "outputs": [],
      "execution_count": 5,
      "metadata": {
        "gather": {
          "logged": 1653466183937
        },
        "jupyter": {
          "outputs_hidden": false,
          "source_hidden": false
        },
        "nteract": {
          "transient": {
            "deleting": false
          }
        }
      }
    },
    {
      "cell_type": "markdown",
      "source": [
        "## AutoML Configuration\n",
        "\n",
        "TODO: Explain why you chose the automl settings and configuration you used below.\n",
        "To limit the runtime of the AutoML, I set a limit to 30 minutes for the experiment runtime. As task I want to have a classification model with the Accuracy as evaluation metric. To have a valid and not overfitted model I use cross validation and enable early stopping."
      ],
      "metadata": {}
    },
    {
      "cell_type": "code",
      "source": [
        "# TODO: Put your automl settings here\n",
        "automl_settings = {\n",
        "    \"experiment_timeout_minutes\":30,\n",
        "    \"primary_metric\":\"accuracy\"\n",
        "}\n",
        "\n",
        "# TODO: Put your automl config here\n",
        "automl_config = AutoMLConfig(\n",
        "    task=\"classification\",\n",
        "    training_data=dataset,\n",
        "    label_column_name=\"stroke\",\n",
        "    n_cross_validations=2,\n",
        "    compute_target = aml_compute,\n",
        "    enable_early_stopping = True,\n",
        "    **automl_settings\n",
        ")"
      ],
      "outputs": [],
      "execution_count": 10,
      "metadata": {
        "gather": {
          "logged": 1653466254353
        },
        "jupyter": {
          "outputs_hidden": false,
          "source_hidden": false
        },
        "nteract": {
          "transient": {
            "deleting": false
          }
        }
      }
    },
    {
      "cell_type": "code",
      "source": [
        "# TODO: Submit your experiment\n",
        "remote_run = experiment.submit(automl_config)"
      ],
      "outputs": [
        {
          "output_type": "stream",
          "name": "stdout",
          "text": "Submitting remote run.\n"
        },
        {
          "output_type": "display_data",
          "data": {
            "text/plain": "<IPython.core.display.HTML object>",
            "text/html": "<table style=\"width:100%\"><tr><th>Experiment</th><th>Id</th><th>Type</th><th>Status</th><th>Details Page</th><th>Docs Page</th></tr><tr><td>Stroke_prediction</td><td>AutoML_e175bf45-5083-47e4-816e-9cdeb563239e</td><td>automl</td><td>NotStarted</td><td><a href=\"https://ml.azure.com/runs/AutoML_e175bf45-5083-47e4-816e-9cdeb563239e?wsid=/subscriptions/6971f5ac-8af1-446e-8034-05acea24681f/resourcegroups/aml-quickstarts-196660/workspaces/quick-starts-ws-196660&amp;tid=660b3398-b80e-49d2-bc5b-ac1dc93b5254\" target=\"_blank\" rel=\"noopener\">Link to Azure Machine Learning studio</a></td><td><a href=\"https://docs.microsoft.com/en-us/python/api/overview/azure/ml/intro?view=azure-ml-py\" target=\"_blank\" rel=\"noopener\">Link to Documentation</a></td></tr></table>"
          },
          "metadata": {}
        }
      ],
      "execution_count": 11,
      "metadata": {
        "gather": {
          "logged": 1653466259160
        },
        "jupyter": {
          "outputs_hidden": false,
          "source_hidden": false
        },
        "nteract": {
          "transient": {
            "deleting": false
          }
        }
      }
    },
    {
      "cell_type": "markdown",
      "source": [
        "## Run Details\n",
        "TODO: In the cell below, use the `RunDetails` widget to show the different experiments."
      ],
      "metadata": {}
    },
    {
      "cell_type": "code",
      "source": [
        "RunDetails(remote_run).show()\n",
        "remote_run.wait_for_completion(show_output=True)"
      ],
      "outputs": [
        {
          "output_type": "display_data",
          "data": {
            "text/plain": "_AutoMLWidget(widget_settings={'childWidgetDisplay': 'popup', 'send_telemetry': False, 'log_level': 'INFO', 's…",
            "application/vnd.jupyter.widget-view+json": {
              "version_major": 2,
              "version_minor": 0,
              "model_id": "826ec9b261b940cdbe135bb954fa4613"
            }
          },
          "metadata": {}
        },
        {
          "output_type": "display_data",
          "data": {
            "application/aml.mini.widget.v1": "{\"status\": \"Completed\", \"workbench_run_details_uri\": \"https://ml.azure.com/runs/AutoML_e175bf45-5083-47e4-816e-9cdeb563239e?wsid=/subscriptions/6971f5ac-8af1-446e-8034-05acea24681f/resourcegroups/aml-quickstarts-196660/workspaces/quick-starts-ws-196660&tid=660b3398-b80e-49d2-bc5b-ac1dc93b5254\", \"run_id\": \"AutoML_e175bf45-5083-47e4-816e-9cdeb563239e\", \"run_properties\": {\"run_id\": \"AutoML_e175bf45-5083-47e4-816e-9cdeb563239e\", \"created_utc\": \"2022-05-25T08:10:57.631693Z\", \"properties\": {\"num_iterations\": \"1000\", \"training_type\": \"TrainFull\", \"acquisition_function\": \"EI\", \"primary_metric\": \"accuracy\", \"train_split\": \"0\", \"acquisition_parameter\": \"0\", \"num_cross_validation\": \"2\", \"target\": \"Udactiy-Project-Cluster\", \"AMLSettingsJsonString\": \"{\\\"path\\\":null,\\\"name\\\":\\\"Stroke_prediction\\\",\\\"subscription_id\\\":\\\"6971f5ac-8af1-446e-8034-05acea24681f\\\",\\\"resource_group\\\":\\\"aml-quickstarts-196660\\\",\\\"workspace_name\\\":\\\"quick-starts-ws-196660\\\",\\\"region\\\":\\\"southcentralus\\\",\\\"compute_target\\\":\\\"Udactiy-Project-Cluster\\\",\\\"spark_service\\\":null,\\\"azure_service\\\":\\\"remote\\\",\\\"many_models\\\":false,\\\"pipeline_fetch_max_batch_size\\\":1,\\\"enable_batch_run\\\":true,\\\"enable_run_restructure\\\":false,\\\"start_auxiliary_runs_before_parent_complete\\\":false,\\\"enable_code_generation\\\":false,\\\"iterations\\\":1000,\\\"primary_metric\\\":\\\"accuracy\\\",\\\"task_type\\\":\\\"classification\\\",\\\"positive_label\\\":null,\\\"data_script\\\":null,\\\"test_size\\\":0.0,\\\"test_include_predictions_only\\\":false,\\\"validation_size\\\":0.0,\\\"n_cross_validations\\\":2,\\\"y_min\\\":null,\\\"y_max\\\":null,\\\"num_classes\\\":null,\\\"featurization\\\":\\\"auto\\\",\\\"_ignore_package_version_incompatibilities\\\":false,\\\"is_timeseries\\\":false,\\\"max_cores_per_iteration\\\":1,\\\"max_concurrent_iterations\\\":1,\\\"iteration_timeout_minutes\\\":null,\\\"mem_in_mb\\\":null,\\\"enforce_time_on_windows\\\":false,\\\"experiment_timeout_minutes\\\":30,\\\"experiment_exit_score\\\":null,\\\"partition_column_names\\\":null,\\\"whitelist_models\\\":null,\\\"blacklist_algos\\\":[\\\"TensorFlowLinearClassifier\\\",\\\"TensorFlowDNN\\\"],\\\"supported_models\\\":[\\\"LinearSVM\\\",\\\"TensorFlowLinearClassifier\\\",\\\"SGD\\\",\\\"SVM\\\",\\\"ExtremeRandomTrees\\\",\\\"BernoulliNaiveBayes\\\",\\\"XGBoostClassifier\\\",\\\"MultinomialNaiveBayes\\\",\\\"RandomForest\\\",\\\"LogisticRegression\\\",\\\"LightGBM\\\",\\\"KNN\\\",\\\"DecisionTree\\\",\\\"TensorFlowDNN\\\",\\\"TabnetClassifier\\\",\\\"GradientBoosting\\\",\\\"AveragedPerceptronClassifier\\\"],\\\"private_models\\\":[],\\\"auto_blacklist\\\":true,\\\"blacklist_samples_reached\\\":false,\\\"exclude_nan_labels\\\":true,\\\"verbosity\\\":20,\\\"_debug_log\\\":\\\"azureml_automl.log\\\",\\\"show_warnings\\\":false,\\\"model_explainability\\\":true,\\\"service_url\\\":null,\\\"sdk_url\\\":null,\\\"sdk_packages\\\":null,\\\"enable_onnx_compatible_models\\\":false,\\\"enable_split_onnx_featurizer_estimator_models\\\":false,\\\"vm_type\\\":\\\"STANDARD_D2_V2\\\",\\\"telemetry_verbosity\\\":20,\\\"send_telemetry\\\":true,\\\"enable_dnn\\\":false,\\\"scenario\\\":\\\"SDK-1.13.0\\\",\\\"environment_label\\\":null,\\\"save_mlflow\\\":false,\\\"enable_categorical_indicators\\\":false,\\\"force_text_dnn\\\":false,\\\"enable_feature_sweeping\\\":true,\\\"enable_early_stopping\\\":true,\\\"early_stopping_n_iters\\\":10,\\\"arguments\\\":null,\\\"dataset_id\\\":\\\"93eec123-d4d4-4be2-846a-13197de012b4\\\",\\\"hyperdrive_config\\\":null,\\\"validation_dataset_id\\\":null,\\\"run_source\\\":null,\\\"metrics\\\":null,\\\"enable_metric_confidence\\\":false,\\\"enable_ensembling\\\":true,\\\"enable_stack_ensembling\\\":true,\\\"ensemble_iterations\\\":15,\\\"enable_tf\\\":false,\\\"enable_subsampling\\\":null,\\\"subsample_seed\\\":null,\\\"enable_nimbusml\\\":false,\\\"enable_streaming\\\":false,\\\"force_streaming\\\":false,\\\"track_child_runs\\\":true,\\\"allowed_private_models\\\":[],\\\"label_column_name\\\":\\\"stroke\\\",\\\"weight_column_name\\\":null,\\\"cv_split_column_names\\\":null,\\\"enable_local_managed\\\":false,\\\"_local_managed_run_id\\\":null,\\\"cost_mode\\\":1,\\\"lag_length\\\":0,\\\"metric_operation\\\":\\\"maximize\\\",\\\"preprocess\\\":true}\", \"DataPrepJsonString\": \"{\\\\\\\"training_data\\\\\\\": {\\\\\\\"datasetId\\\\\\\": \\\\\\\"93eec123-d4d4-4be2-846a-13197de012b4\\\\\\\"}, \\\\\\\"datasets\\\\\\\": 0}\", \"EnableSubsampling\": null, \"runTemplate\": \"AutoML\", \"azureml.runsource\": \"automl\", \"display_task_type\": \"classification\", \"dependencies_versions\": \"{\\\"azureml-dataprep-native\\\": \\\"38.0.0\\\", \\\"azureml-dataprep\\\": \\\"3.1.1\\\", \\\"azureml-dataprep-rslex\\\": \\\"2.5.2\\\", \\\"azureml-mlflow\\\": \\\"1.41.0\\\", \\\"azureml-training-tabular\\\": \\\"1.41.0\\\", \\\"azureml-train-core\\\": \\\"1.41.0\\\", \\\"azureml-contrib-dataset\\\": \\\"1.41.0\\\", \\\"azureml-pipeline-steps\\\": \\\"1.41.0\\\", \\\"azureml-pipeline-core\\\": \\\"1.41.0\\\", \\\"azureml-pipeline\\\": \\\"1.41.0\\\", \\\"azureml-cli-common\\\": \\\"1.41.0\\\", \\\"azureml-explain-model\\\": \\\"1.41.0\\\", \\\"azureml-automl-dnn-nlp\\\": \\\"1.41.0\\\", \\\"azureml-opendatasets\\\": \\\"1.41.0\\\", \\\"azureml-train-restclients-hyperdrive\\\": \\\"1.41.0\\\", \\\"azureml-dataset-runtime\\\": \\\"1.41.0\\\", \\\"azureml-tensorboard\\\": \\\"1.41.0\\\", \\\"azureml-contrib-automl-pipeline-steps\\\": \\\"1.41.0\\\", \\\"azureml-train-automl-client\\\": \\\"1.41.0\\\", \\\"azureml-automl-core\\\": \\\"1.41.0\\\", \\\"azureml-sdk\\\": \\\"1.41.0\\\", \\\"azureml-contrib-services\\\": \\\"1.41.0\\\", \\\"azureml-contrib-server\\\": \\\"1.41.0\\\", \\\"azureml-accel-models\\\": \\\"1.41.0\\\", \\\"azureml-core\\\": \\\"1.41.0\\\", \\\"azureml-train-automl-runtime\\\": \\\"1.41.0\\\", \\\"azureml-contrib-notebook\\\": \\\"1.41.0\\\", \\\"azureml-train\\\": \\\"1.41.0\\\", \\\"azureml-interpret\\\": \\\"1.41.0\\\", \\\"azureml-defaults\\\": \\\"1.41.0\\\", \\\"azureml-automl-runtime\\\": \\\"1.41.0\\\", \\\"azureml-datadrift\\\": \\\"1.41.0\\\", \\\"azureml-contrib-reinforcementlearning\\\": \\\"1.41.0\\\", \\\"azureml-widgets\\\": \\\"1.41.0\\\", \\\"azureml-train-automl\\\": \\\"1.41.0\\\", \\\"azureml-contrib-fairness\\\": \\\"1.41.0\\\", \\\"azureml-telemetry\\\": \\\"1.41.0\\\", \\\"azureml-contrib-pipeline-steps\\\": \\\"1.41.0\\\", \\\"azureml-responsibleai\\\": \\\"1.41.0\\\", \\\"azureml-inference-server-http\\\": \\\"0.4.13\\\", \\\"azureml-samples\\\": \\\"0+unknown\\\"}\", \"_aml_system_scenario_identification\": \"Remote.Parent\", \"ClientType\": \"SDK\", \"environment_cpu_name\": \"AzureML-AutoML\", \"environment_cpu_label\": \"prod\", \"environment_gpu_name\": \"AzureML-AutoML-GPU\", \"environment_gpu_label\": \"prod\", \"root_attribution\": \"automl\", \"attribution\": \"AutoML\", \"Orchestrator\": \"AutoML\", \"CancelUri\": \"https://southcentralus.api.azureml.ms/jasmine/v1.0/subscriptions/6971f5ac-8af1-446e-8034-05acea24681f/resourceGroups/aml-quickstarts-196660/providers/Microsoft.MachineLearningServices/workspaces/quick-starts-ws-196660/experimentids/befa3663-07cf-4129-a0e4-cd1cdf39cc72/cancel/AutoML_e175bf45-5083-47e4-816e-9cdeb563239e\", \"ClientSdkVersion\": \"1.41.1\", \"snapshotId\": \"00000000-0000-0000-0000-000000000000\", \"SetupRunId\": \"AutoML_e175bf45-5083-47e4-816e-9cdeb563239e_setup\", \"SetupRunContainerId\": \"dcid.AutoML_e175bf45-5083-47e4-816e-9cdeb563239e_setup\", \"FeaturizationRunJsonPath\": \"featurizer_container.json\", \"FeaturizationRunId\": \"AutoML_e175bf45-5083-47e4-816e-9cdeb563239e_featurize\", \"ProblemInfoJsonString\": \"{\\\"dataset_num_categorical\\\": 0, \\\"is_sparse\\\": true, \\\"subsampling\\\": false, \\\"has_extra_col\\\": true, \\\"dataset_classes\\\": 2, \\\"dataset_features\\\": 275, \\\"dataset_samples\\\": 5110, \\\"single_frequency_class_detected\\\": false}\", \"ModelExplainRunId\": \"AutoML_e175bf45-5083-47e4-816e-9cdeb563239e_ModelExplain\"}, \"tags\": {\"model_explain_run\": \"best_run\", \"_aml_system_automl_run_workspace_id\": \"11dfe40f-8952-4fe5-963b-019b996eeb22\", \"_aml_system_azureml.automlComponent\": \"AutoML\", \"pipeline_id\": \"\", \"score\": \"\", \"predicted_cost\": \"\", \"fit_time\": \"\", \"training_percent\": \"\", \"iteration\": \"\", \"run_preprocessor\": \"\", \"run_algorithm\": \"\", \"dynamic_allowlisting_iterations\": \"<25>;<30>;<35>;<40>;\", \"_aml_system_azureml.automl_early_exit_message\": \"No scores improved over last 10 iterations, so experiment stopped early. This early stopping behavior can be disabled by setting enable_early_stopping = False in AutoMLConfig for notebook/python SDK runs.\", \"automl_best_child_run_id\": \"AutoML_e175bf45-5083-47e4-816e-9cdeb563239e_45\", \"model_explain_best_run_child_id\": \"AutoML_e175bf45-5083-47e4-816e-9cdeb563239e_45\"}, \"end_time_utc\": \"2022-05-25T08:37:02.15817Z\", \"status\": \"Completed\", \"log_files\": {}, \"log_groups\": [], \"run_duration\": \"0:26:04\", \"run_number\": \"1653466257\", \"run_queued_details\": {\"status\": \"Completed\", \"details\": null}}, \"child_runs\": [{\"run_id\": \"AutoML_e175bf45-5083-47e4-816e-9cdeb563239e_setup\", \"run_number\": 1653466270, \"metric\": null, \"status\": \"Completed\", \"run_type\": \"azureml.scriptrun\", \"training_percent\": null, \"start_time\": \"2022-05-25T08:13:15.485316Z\", \"end_time\": \"2022-05-25T08:14:39.45594Z\", \"created_time\": \"2022-05-25T08:11:10.827619Z\", \"created_time_dt\": \"2022-05-25T08:11:10.827619Z\", \"duration\": \"0:03:28\", \"iteration\": null, \"goal\": null, \"run_name\": \"Completed\", \"run_properties\": null}, {\"run_id\": \"AutoML_e175bf45-5083-47e4-816e-9cdeb563239e_featurize\", \"run_number\": 1653466479, \"metric\": null, \"status\": \"Completed\", \"run_type\": \"automl.featurization\", \"training_percent\": null, \"start_time\": \"2022-05-25T08:14:40.1554Z\", \"end_time\": \"2022-05-25T08:15:42.441655Z\", \"created_time\": \"2022-05-25T08:14:39.754281Z\", \"created_time_dt\": \"2022-05-25T08:14:39.754281Z\", \"duration\": \"0:01:02\", \"iteration\": null, \"goal\": null, \"run_name\": \"Completed\", \"run_properties\": null}, {\"run_id\": \"AutoML_e175bf45-5083-47e4-816e-9cdeb563239e_0\", \"run_number\": 1653466543, \"metric\": null, \"status\": \"Completed\", \"run_type\": null, \"training_percent\": \"100\", \"start_time\": \"2022-05-25T08:16:09.040512Z\", \"end_time\": \"2022-05-25T08:16:20.653727Z\", \"created_time\": \"2022-05-25T08:15:43.706618Z\", \"created_time_dt\": \"2022-05-25T08:15:43.706618Z\", \"duration\": \"0:00:36\", \"iteration\": \"0\", \"goal\": \"accuracy_max\", \"run_name\": \"MaxAbsScaler, LightGBM\", \"run_properties\": \"copy=True\", \"primary_metric\": 0.59460426, \"best_metric\": 0.59460426}, {\"run_id\": \"AutoML_e175bf45-5083-47e4-816e-9cdeb563239e_1\", \"run_number\": 1653466544, \"metric\": null, \"status\": \"Completed\", \"run_type\": null, \"training_percent\": \"100\", \"start_time\": \"2022-05-25T08:16:21.125571Z\", \"end_time\": \"2022-05-25T08:16:33.422912Z\", \"created_time\": \"2022-05-25T08:15:44.168386Z\", \"created_time_dt\": \"2022-05-25T08:15:44.168386Z\", \"duration\": \"0:00:49\", \"iteration\": \"1\", \"goal\": \"accuracy_max\", \"run_name\": \"MaxAbsScaler, XGBoostClassifier\", \"run_properties\": \"copy=True\", \"primary_metric\": 0.57411247, \"best_metric\": 0.59460426}, {\"run_id\": \"AutoML_e175bf45-5083-47e4-816e-9cdeb563239e_3\", \"run_number\": 1653466545, \"metric\": null, \"status\": \"Completed\", \"run_type\": null, \"training_percent\": \"100\", \"start_time\": \"2022-05-25T08:16:46.390956Z\", \"end_time\": \"2022-05-25T08:16:57.995223Z\", \"created_time\": \"2022-05-25T08:15:45.037483Z\", \"created_time_dt\": \"2022-05-25T08:15:45.037483Z\", \"duration\": \"0:01:12\", \"iteration\": \"3\", \"goal\": \"accuracy_max\", \"run_name\": \"SparseNormalizer, XGBoostClassifier\", \"run_properties\": \"copy=True, norm='l2'\", \"primary_metric\": 0.67450492, \"best_metric\": 0.67450492}, {\"run_id\": \"AutoML_e175bf45-5083-47e4-816e-9cdeb563239e_6\", \"run_number\": 1653466546, \"metric\": null, \"status\": \"Completed\", \"run_type\": null, \"training_percent\": \"100\", \"start_time\": \"2022-05-25T08:17:23.110966Z\", \"end_time\": \"2022-05-25T08:17:35.775192Z\", \"created_time\": \"2022-05-25T08:15:46.377551Z\", \"created_time_dt\": \"2022-05-25T08:15:46.377551Z\", \"duration\": \"0:01:49\", \"iteration\": \"6\", \"goal\": \"accuracy_max\", \"run_name\": \"StandardScalerWrapper, XGBoostClassifier\", \"run_properties\": \"copy=True, with_mean=False, with_std=False\", \"primary_metric\": 0.5907218, \"best_metric\": 0.67450492}, {\"run_id\": \"AutoML_e175bf45-5083-47e4-816e-9cdeb563239e_8\", \"run_number\": 1653466547, \"metric\": null, \"status\": \"Completed\", \"run_type\": null, \"training_percent\": \"100\", \"start_time\": \"2022-05-25T08:17:48.378508Z\", \"end_time\": \"2022-05-25T08:17:59.794485Z\", \"created_time\": \"2022-05-25T08:15:47.273928Z\", \"created_time_dt\": \"2022-05-25T08:15:47.273928Z\", \"duration\": \"0:02:12\", \"iteration\": \"8\", \"goal\": \"accuracy_max\", \"run_name\": \"StandardScalerWrapper, ExtremeRandomTrees\", \"run_properties\": \"copy=True, with_mean=False, with_std=False\", \"primary_metric\": 0.72674921, \"best_metric\": 0.72674921}, {\"run_id\": \"AutoML_e175bf45-5083-47e4-816e-9cdeb563239e_10\", \"run_number\": 1653466548, \"metric\": null, \"status\": \"Completed\", \"run_type\": null, \"training_percent\": \"100\", \"start_time\": \"2022-05-25T08:18:12.296862Z\", \"end_time\": \"2022-05-25T08:18:23.430069Z\", \"created_time\": \"2022-05-25T08:15:48.187127Z\", \"created_time_dt\": \"2022-05-25T08:15:48.187127Z\", \"duration\": \"0:02:35\", \"iteration\": \"10\", \"goal\": \"accuracy_max\", \"run_name\": \"SparseNormalizer, LightGBM\", \"run_properties\": \"copy=True, norm='l1'\", \"primary_metric\": 0.68891729, \"best_metric\": 0.72674921}, {\"run_id\": \"AutoML_e175bf45-5083-47e4-816e-9cdeb563239e_12\", \"run_number\": 1653466549, \"metric\": null, \"status\": \"Completed\", \"run_type\": null, \"training_percent\": \"100\", \"start_time\": \"2022-05-25T08:18:35.530941Z\", \"end_time\": \"2022-05-25T08:18:47.150615Z\", \"created_time\": \"2022-05-25T08:15:49.125816Z\", \"created_time_dt\": \"2022-05-25T08:15:49.125816Z\", \"duration\": \"0:02:58\", \"iteration\": \"12\", \"goal\": \"accuracy_max\", \"run_name\": \"MaxAbsScaler, LogisticRegression\", \"run_properties\": \"copy=True\", \"primary_metric\": 0.67365402, \"best_metric\": 0.72674921}, {\"run_id\": \"AutoML_e175bf45-5083-47e4-816e-9cdeb563239e_14\", \"run_number\": 1653466550, \"metric\": null, \"status\": \"Completed\", \"run_type\": null, \"training_percent\": \"100\", \"start_time\": \"2022-05-25T08:18:59.14102Z\", \"end_time\": \"2022-05-25T08:19:11.204819Z\", \"created_time\": \"2022-05-25T08:15:50.021879Z\", \"created_time_dt\": \"2022-05-25T08:15:50.021879Z\", \"duration\": \"0:03:21\", \"iteration\": \"14\", \"goal\": \"accuracy_max\", \"run_name\": \"StandardScalerWrapper, XGBoostClassifier\", \"run_properties\": \"copy=True, with_mean=False, with_std=False\", \"primary_metric\": 0.66535511, \"best_metric\": 0.72674921}, {\"run_id\": \"AutoML_e175bf45-5083-47e4-816e-9cdeb563239e_17\", \"run_number\": 1653466551, \"metric\": null, \"status\": \"Completed\", \"run_type\": null, \"training_percent\": \"100\", \"start_time\": \"2022-05-25T08:19:36.553954Z\", \"end_time\": \"2022-05-25T08:19:48.699212Z\", \"created_time\": \"2022-05-25T08:15:51.303202Z\", \"created_time_dt\": \"2022-05-25T08:15:51.303202Z\", \"duration\": \"0:03:57\", \"iteration\": \"17\", \"goal\": \"accuracy_max\", \"run_name\": \"StandardScalerWrapper, RandomForest\", \"run_properties\": \"copy=True, with_mean=False, with_std=False\", \"primary_metric\": 0.75567012, \"best_metric\": 0.75567012}, {\"run_id\": \"AutoML_e175bf45-5083-47e4-816e-9cdeb563239e_worker_0\", \"run_number\": 1653466552, \"metric\": null, \"status\": \"Completed\", \"run_type\": \"azureml.scriptrun\", \"training_percent\": null, \"start_time\": \"2022-05-25T08:17:55.929506Z\", \"end_time\": \"2022-05-25T08:20:34.129026Z\", \"created_time\": \"2022-05-25T08:15:52.455771Z\", \"created_time_dt\": \"2022-05-25T08:15:52.455771Z\", \"duration\": \"0:04:41\", \"iteration\": null, \"goal\": null, \"run_name\": \"Completed\", \"run_properties\": null}, {\"run_id\": \"AutoML_e175bf45-5083-47e4-816e-9cdeb563239e_20\", \"run_number\": 1653466860, \"metric\": null, \"status\": \"Completed\", \"run_type\": \"azureml.scriptrun\", \"training_percent\": \"100\", \"start_time\": \"2022-05-25T08:21:53.202564Z\", \"end_time\": \"2022-05-25T08:21:57.073737Z\", \"created_time\": \"2022-05-25T08:21:00.831968Z\", \"created_time_dt\": \"2022-05-25T08:21:00.831968Z\", \"duration\": \"0:00:56\", \"iteration\": \"20\", \"goal\": \"accuracy_max\", \"run_name\": \"TruncatedSVDWrapper, RandomForest\", \"run_properties\": \"n_components=0.7026315789473684, random_state=None\", \"primary_metric\": 0.66685363, \"best_metric\": 0.75567012}, {\"run_id\": \"AutoML_e175bf45-5083-47e4-816e-9cdeb563239e_21\", \"run_number\": 1653466918, \"metric\": null, \"status\": \"Completed\", \"run_type\": \"azureml.scriptrun\", \"training_percent\": \"100\", \"start_time\": \"2022-05-25T08:22:26.135257Z\", \"end_time\": \"2022-05-25T08:22:29.920661Z\", \"created_time\": \"2022-05-25T08:21:58.845156Z\", \"created_time_dt\": \"2022-05-25T08:21:58.845156Z\", \"duration\": \"0:00:31\", \"iteration\": \"21\", \"goal\": \"accuracy_max\", \"run_name\": \"StandardScalerWrapper, XGBoostClassifier\", \"run_properties\": \"copy=True, with_mean=False, with_std=False\", \"primary_metric\": 0.63254904, \"best_metric\": 0.75567012}, {\"run_id\": \"AutoML_e175bf45-5083-47e4-816e-9cdeb563239e_22\", \"run_number\": 1653466951, \"metric\": null, \"status\": \"Completed\", \"run_type\": \"azureml.scriptrun\", \"training_percent\": \"100\", \"start_time\": \"2022-05-25T08:23:00.169412Z\", \"end_time\": \"2022-05-25T08:23:03.96326Z\", \"created_time\": \"2022-05-25T08:22:31.659343Z\", \"created_time_dt\": \"2022-05-25T08:22:31.659343Z\", \"duration\": \"0:00:32\", \"iteration\": \"22\", \"goal\": \"accuracy_max\", \"run_name\": \"MaxAbsScaler, LightGBM\", \"run_properties\": \"copy=True\", \"primary_metric\": 0.75734392, \"best_metric\": 0.75734392}, {\"run_id\": \"AutoML_e175bf45-5083-47e4-816e-9cdeb563239e_23\", \"run_number\": 1653466986, \"metric\": null, \"status\": \"Completed\", \"run_type\": \"azureml.scriptrun\", \"training_percent\": \"100\", \"start_time\": \"2022-05-25T08:23:33.171941Z\", \"end_time\": \"2022-05-25T08:23:36.988296Z\", \"created_time\": \"2022-05-25T08:23:06.000664Z\", \"created_time_dt\": \"2022-05-25T08:23:06.000664Z\", \"duration\": \"0:00:30\", \"iteration\": \"23\", \"goal\": \"accuracy_max\", \"run_name\": \"SparseNormalizer, LightGBM\", \"run_properties\": \"copy=True, norm='l1'\", \"primary_metric\": 0.6645709, \"best_metric\": 0.75734392}, {\"run_id\": \"AutoML_e175bf45-5083-47e4-816e-9cdeb563239e_24\", \"run_number\": 1653467018, \"metric\": null, \"status\": \"Completed\", \"run_type\": \"azureml.scriptrun\", \"training_percent\": \"100\", \"start_time\": \"2022-05-25T08:24:09.808036Z\", \"end_time\": \"2022-05-25T08:24:13.544002Z\", \"created_time\": \"2022-05-25T08:23:38.559141Z\", \"created_time_dt\": \"2022-05-25T08:23:38.559141Z\", \"duration\": \"0:00:34\", \"iteration\": \"24\", \"goal\": \"accuracy_max\", \"run_name\": \"StandardScalerWrapper, ExtremeRandomTrees\", \"run_properties\": \"copy=True, with_mean=False, with_std=False\", \"primary_metric\": 0.76640125, \"best_metric\": 0.76640125}, {\"run_id\": \"AutoML_e175bf45-5083-47e4-816e-9cdeb563239e_25\", \"run_number\": 1653467056, \"metric\": null, \"status\": \"Completed\", \"run_type\": \"azureml.scriptrun\", \"training_percent\": \"100\", \"start_time\": \"2022-05-25T08:24:43.490973Z\", \"end_time\": \"2022-05-25T08:24:47.269141Z\", \"created_time\": \"2022-05-25T08:24:16.039165Z\", \"created_time_dt\": \"2022-05-25T08:24:16.039165Z\", \"duration\": \"0:00:31\", \"iteration\": \"25\", \"goal\": \"accuracy_max\", \"run_name\": \"StandardScalerWrapper, ExtremeRandomTrees\", \"run_properties\": \"copy=True, with_mean=False, with_std=True\", \"primary_metric\": 0.57240883, \"best_metric\": 0.76640125}, {\"run_id\": \"AutoML_e175bf45-5083-47e4-816e-9cdeb563239e_26\", \"run_number\": 1653467088, \"metric\": null, \"status\": \"Completed\", \"run_type\": \"azureml.scriptrun\", \"training_percent\": \"100\", \"start_time\": \"2022-05-25T08:25:15.306053Z\", \"end_time\": \"2022-05-25T08:25:19.083916Z\", \"created_time\": \"2022-05-25T08:24:48.920758Z\", \"created_time_dt\": \"2022-05-25T08:24:48.920758Z\", \"duration\": \"0:00:30\", \"iteration\": \"26\", \"goal\": \"accuracy_max\", \"run_name\": \"StandardScalerWrapper, RandomForest\", \"run_properties\": \"copy=True, with_mean=False, with_std=False\", \"primary_metric\": 0.75865519, \"best_metric\": 0.76640125}, {\"run_id\": \"AutoML_e175bf45-5083-47e4-816e-9cdeb563239e_27\", \"run_number\": 1653467120, \"metric\": null, \"status\": \"Completed\", \"run_type\": \"azureml.scriptrun\", \"training_percent\": \"100\", \"start_time\": \"2022-05-25T08:25:49.588948Z\", \"end_time\": \"2022-05-25T08:25:53.373148Z\", \"created_time\": \"2022-05-25T08:25:20.667616Z\", \"created_time_dt\": \"2022-05-25T08:25:20.667616Z\", \"duration\": \"0:00:32\", \"iteration\": \"27\", \"goal\": \"accuracy_max\", \"run_name\": \"SparseNormalizer, XGBoostClassifier\", \"run_properties\": \"copy=True, norm='max'\", \"primary_metric\": 0.55608269, \"best_metric\": 0.76640125}, {\"run_id\": \"AutoML_e175bf45-5083-47e4-816e-9cdeb563239e_28\", \"run_number\": 1653467154, \"metric\": null, \"status\": \"Completed\", \"run_type\": \"azureml.scriptrun\", \"training_percent\": \"100\", \"start_time\": \"2022-05-25T08:26:20.985628Z\", \"end_time\": \"2022-05-25T08:26:24.767108Z\", \"created_time\": \"2022-05-25T08:25:54.86462Z\", \"created_time_dt\": \"2022-05-25T08:25:54.86462Z\", \"duration\": \"0:00:29\", \"iteration\": \"28\", \"goal\": \"accuracy_max\", \"run_name\": \"MaxAbsScaler, LightGBM\", \"run_properties\": \"copy=True\", \"primary_metric\": 0.75942575, \"best_metric\": 0.76640125}, {\"run_id\": \"AutoML_e175bf45-5083-47e4-816e-9cdeb563239e_29\", \"run_number\": 1653467186, \"metric\": null, \"status\": \"Completed\", \"run_type\": \"azureml.scriptrun\", \"training_percent\": \"100\", \"start_time\": \"2022-05-25T08:26:51.977875Z\", \"end_time\": \"2022-05-25T08:26:55.775024Z\", \"created_time\": \"2022-05-25T08:26:26.273139Z\", \"created_time_dt\": \"2022-05-25T08:26:26.273139Z\", \"duration\": \"0:00:29\", \"iteration\": \"29\", \"goal\": \"accuracy_max\", \"run_name\": \"StandardScalerWrapper, LightGBM\", \"run_properties\": \"copy=True, with_mean=False, with_std=False\", \"primary_metric\": 0.76107692, \"best_metric\": 0.76640125}, {\"run_id\": \"AutoML_e175bf45-5083-47e4-816e-9cdeb563239e_30\", \"run_number\": 1653467219, \"metric\": null, \"status\": \"Completed\", \"run_type\": \"azureml.scriptrun\", \"training_percent\": \"100\", \"start_time\": \"2022-05-25T08:27:26.518794Z\", \"end_time\": \"2022-05-25T08:27:30.328517Z\", \"created_time\": \"2022-05-25T08:26:59.647127Z\", \"created_time_dt\": \"2022-05-25T08:26:59.647127Z\", \"duration\": \"0:00:30\", \"iteration\": \"30\", \"goal\": \"accuracy_max\", \"run_name\": \"SparseNormalizer, ExtremeRandomTrees\", \"run_properties\": \"copy=True, norm='max'\", \"primary_metric\": 0.4995472, \"best_metric\": 0.76640125}, {\"run_id\": \"AutoML_e175bf45-5083-47e4-816e-9cdeb563239e_31\", \"run_number\": 1653467252, \"metric\": null, \"status\": \"Completed\", \"run_type\": \"azureml.scriptrun\", \"training_percent\": \"100\", \"start_time\": \"2022-05-25T08:27:58.631472Z\", \"end_time\": \"2022-05-25T08:28:02.44419Z\", \"created_time\": \"2022-05-25T08:27:32.000508Z\", \"created_time_dt\": \"2022-05-25T08:27:32.000508Z\", \"duration\": \"0:00:30\", \"iteration\": \"31\", \"goal\": \"accuracy_max\", \"run_name\": \"MaxAbsScaler, RandomForest\", \"run_properties\": \"copy=True\", \"primary_metric\": 0.73449405, \"best_metric\": 0.76640125}, {\"run_id\": \"AutoML_e175bf45-5083-47e4-816e-9cdeb563239e_32\", \"run_number\": 1653467284, \"metric\": null, \"status\": \"Completed\", \"run_type\": \"azureml.scriptrun\", \"training_percent\": \"100\", \"start_time\": \"2022-05-25T08:28:30.772333Z\", \"end_time\": \"2022-05-25T08:28:34.516789Z\", \"created_time\": \"2022-05-25T08:28:04.088666Z\", \"created_time_dt\": \"2022-05-25T08:28:04.088666Z\", \"duration\": \"0:00:30\", \"iteration\": \"32\", \"goal\": \"accuracy_max\", \"run_name\": \"SparseNormalizer, LightGBM\", \"run_properties\": \"copy=True, norm='l1'\", \"primary_metric\": 0.68233691, \"best_metric\": 0.76640125}, {\"run_id\": \"AutoML_e175bf45-5083-47e4-816e-9cdeb563239e_33\", \"run_number\": 1653467316, \"metric\": null, \"status\": \"Completed\", \"run_type\": \"azureml.scriptrun\", \"training_percent\": \"100\", \"start_time\": \"2022-05-25T08:29:03.563447Z\", \"end_time\": \"2022-05-25T08:29:07.316958Z\", \"created_time\": \"2022-05-25T08:28:36.321193Z\", \"created_time_dt\": \"2022-05-25T08:28:36.321193Z\", \"duration\": \"0:00:30\", \"iteration\": \"33\", \"goal\": \"accuracy_max\", \"run_name\": \"MaxAbsScaler, RandomForest\", \"run_properties\": \"copy=True\", \"primary_metric\": 0.75629853, \"best_metric\": 0.76640125}, {\"run_id\": \"AutoML_e175bf45-5083-47e4-816e-9cdeb563239e_34\", \"run_number\": 1653467348, \"metric\": null, \"status\": \"Completed\", \"run_type\": \"azureml.scriptrun\", \"training_percent\": \"100\", \"start_time\": \"2022-05-25T08:29:36.40638Z\", \"end_time\": \"2022-05-25T08:29:40.203114Z\", \"created_time\": \"2022-05-25T08:29:08.818237Z\", \"created_time_dt\": \"2022-05-25T08:29:08.818237Z\", \"duration\": \"0:00:31\", \"iteration\": \"34\", \"goal\": \"accuracy_max\", \"run_name\": \"MaxAbsScaler, ExtremeRandomTrees\", \"run_properties\": \"copy=True\", \"primary_metric\": 0.76701678, \"best_metric\": 0.76701678}, {\"run_id\": \"AutoML_e175bf45-5083-47e4-816e-9cdeb563239e_35\", \"run_number\": 1653467383, \"metric\": null, \"status\": \"Completed\", \"run_type\": \"azureml.scriptrun\", \"training_percent\": \"100\", \"start_time\": \"2022-05-25T08:30:12.685956Z\", \"end_time\": \"2022-05-25T08:30:16.460954Z\", \"created_time\": \"2022-05-25T08:29:43.165628Z\", \"created_time_dt\": \"2022-05-25T08:29:43.165628Z\", \"duration\": \"0:00:33\", \"iteration\": \"35\", \"goal\": \"accuracy_max\", \"run_name\": \"SparseNormalizer, ExtremeRandomTrees\", \"run_properties\": \"copy=True, norm='l1'\", \"primary_metric\": 0.48415537, \"best_metric\": 0.76701678}, {\"run_id\": \"AutoML_e175bf45-5083-47e4-816e-9cdeb563239e_36\", \"run_number\": 1653467418, \"metric\": null, \"status\": \"Completed\", \"run_type\": \"azureml.scriptrun\", \"training_percent\": \"100\", \"start_time\": \"2022-05-25T08:30:47.748331Z\", \"end_time\": \"2022-05-25T08:30:51.5294Z\", \"created_time\": \"2022-05-25T08:30:18.758522Z\", \"created_time_dt\": \"2022-05-25T08:30:18.758522Z\", \"duration\": \"0:00:32\", \"iteration\": \"36\", \"goal\": \"accuracy_max\", \"run_name\": \"SparseNormalizer, RandomForest\", \"run_properties\": \"copy=True, norm='l2'\", \"primary_metric\": 0.62620856, \"best_metric\": 0.76701678}, {\"run_id\": \"AutoML_e175bf45-5083-47e4-816e-9cdeb563239e_37\", \"run_number\": 1653467453, \"metric\": null, \"status\": \"Completed\", \"run_type\": \"azureml.scriptrun\", \"training_percent\": \"100\", \"start_time\": \"2022-05-25T08:31:19.97262Z\", \"end_time\": \"2022-05-25T08:31:23.754077Z\", \"created_time\": \"2022-05-25T08:30:53.42753Z\", \"created_time_dt\": \"2022-05-25T08:30:53.42753Z\", \"duration\": \"0:00:30\", \"iteration\": \"37\", \"goal\": \"accuracy_max\", \"run_name\": \"SparseNormalizer, LightGBM\", \"run_properties\": \"copy=True, norm='l2'\", \"primary_metric\": 0.6792794, \"best_metric\": 0.76701678}, {\"run_id\": \"AutoML_e175bf45-5083-47e4-816e-9cdeb563239e_38\", \"run_number\": 1653467485, \"metric\": null, \"status\": \"Completed\", \"run_type\": \"azureml.scriptrun\", \"training_percent\": \"100\", \"start_time\": \"2022-05-25T08:31:50.87702Z\", \"end_time\": \"2022-05-25T08:31:54.733221Z\", \"created_time\": \"2022-05-25T08:31:25.449638Z\", \"created_time_dt\": \"2022-05-25T08:31:25.449638Z\", \"duration\": \"0:00:29\", \"iteration\": \"38\", \"goal\": \"accuracy_max\", \"run_name\": \"StandardScalerWrapper, RandomForest\", \"run_properties\": \"copy=True, with_mean=False, with_std=False\", \"primary_metric\": 0.76314985, \"best_metric\": 0.76701678}, {\"run_id\": \"AutoML_e175bf45-5083-47e4-816e-9cdeb563239e_39\", \"run_number\": 1653467516, \"metric\": null, \"status\": \"Completed\", \"run_type\": \"azureml.scriptrun\", \"training_percent\": \"100\", \"start_time\": \"2022-05-25T08:32:22.503463Z\", \"end_time\": \"2022-05-25T08:32:26.243858Z\", \"created_time\": \"2022-05-25T08:31:56.485365Z\", \"created_time_dt\": \"2022-05-25T08:31:56.485365Z\", \"duration\": \"0:00:29\", \"iteration\": \"39\", \"goal\": \"accuracy_max\", \"run_name\": \"StandardScalerWrapper, LightGBM\", \"run_properties\": \"copy=True, with_mean=False, with_std=True\", \"primary_metric\": 0.75116276, \"best_metric\": 0.76701678}, {\"run_id\": \"AutoML_e175bf45-5083-47e4-816e-9cdeb563239e_40\", \"run_number\": 1653467549, \"metric\": null, \"status\": \"Completed\", \"run_type\": \"azureml.scriptrun\", \"training_percent\": \"100\", \"start_time\": \"2022-05-25T08:32:57.302447Z\", \"end_time\": \"2022-05-25T08:33:01.079441Z\", \"created_time\": \"2022-05-25T08:32:29.313893Z\", \"created_time_dt\": \"2022-05-25T08:32:29.313893Z\", \"duration\": \"0:00:31\", \"iteration\": \"40\", \"goal\": \"accuracy_max\", \"run_name\": \"StandardScalerWrapper, ExtremeRandomTrees\", \"run_properties\": \"copy=True, with_mean=False, with_std=True\", \"primary_metric\": 0.71285895, \"best_metric\": 0.76701678}, {\"run_id\": \"AutoML_e175bf45-5083-47e4-816e-9cdeb563239e_41\", \"run_number\": 1653467582, \"metric\": null, \"status\": \"Completed\", \"run_type\": \"azureml.scriptrun\", \"training_percent\": \"100\", \"start_time\": \"2022-05-25T08:33:33.4892Z\", \"end_time\": \"2022-05-25T08:33:37.22232Z\", \"created_time\": \"2022-05-25T08:33:02.73224Z\", \"created_time_dt\": \"2022-05-25T08:33:02.73224Z\", \"duration\": \"0:00:34\", \"iteration\": \"41\", \"goal\": \"accuracy_max\", \"run_name\": \"MaxAbsScaler, LightGBM\", \"run_properties\": \"copy=True\", \"primary_metric\": 0.72598729, \"best_metric\": 0.76701678}, {\"run_id\": \"AutoML_e175bf45-5083-47e4-816e-9cdeb563239e_42\", \"run_number\": 1653467618, \"metric\": null, \"status\": \"Completed\", \"run_type\": \"azureml.scriptrun\", \"training_percent\": \"100\", \"start_time\": \"2022-05-25T08:34:05.856371Z\", \"end_time\": \"2022-05-25T08:34:09.590145Z\", \"created_time\": \"2022-05-25T08:33:38.956916Z\", \"created_time_dt\": \"2022-05-25T08:33:38.956916Z\", \"duration\": \"0:00:30\", \"iteration\": \"42\", \"goal\": \"accuracy_max\", \"run_name\": \"MaxAbsScaler, LightGBM\", \"run_properties\": \"copy=True\", \"primary_metric\": 0.74776828, \"best_metric\": 0.76701678}, {\"run_id\": \"AutoML_e175bf45-5083-47e4-816e-9cdeb563239e_43\", \"run_number\": 1653467651, \"metric\": null, \"status\": \"Completed\", \"run_type\": \"azureml.scriptrun\", \"training_percent\": \"100\", \"start_time\": \"2022-05-25T08:34:37.539285Z\", \"end_time\": \"2022-05-25T08:34:41.325151Z\", \"created_time\": \"2022-05-25T08:34:11.280919Z\", \"created_time_dt\": \"2022-05-25T08:34:11.280919Z\", \"duration\": \"0:00:30\", \"iteration\": \"43\", \"goal\": \"accuracy_max\", \"run_name\": \"SparseNormalizer, LightGBM\", \"run_properties\": \"copy=True, norm='l2'\", \"primary_metric\": 0.66840668, \"best_metric\": 0.76701678}, {\"run_id\": \"AutoML_e175bf45-5083-47e4-816e-9cdeb563239e_44\", \"run_number\": 1653467682, \"metric\": null, \"status\": \"Completed\", \"run_type\": \"azureml.scriptrun\", \"training_percent\": \"100\", \"start_time\": \"2022-05-25T08:35:09.116648Z\", \"end_time\": \"2022-05-25T08:35:12.842931Z\", \"created_time\": \"2022-05-25T08:34:42.937279Z\", \"created_time_dt\": \"2022-05-25T08:34:42.937279Z\", \"duration\": \"0:00:29\", \"iteration\": \"44\", \"goal\": \"accuracy_max\", \"run_name\": \"StandardScalerWrapper, LightGBM\", \"run_properties\": \"copy=True, with_mean=False, with_std=True\", \"primary_metric\": 0.75944934, \"best_metric\": 0.76701678}, {\"run_id\": \"AutoML_e175bf45-5083-47e4-816e-9cdeb563239e_45\", \"run_number\": 1653467713, \"metric\": null, \"status\": \"Completed\", \"run_type\": \"azureml.scriptrun\", \"training_percent\": \"100\", \"start_time\": \"2022-05-25T08:36:00.260423Z\", \"end_time\": \"2022-05-25T08:36:04.026557Z\", \"created_time\": \"2022-05-25T08:35:13.526948Z\", \"created_time_dt\": \"2022-05-25T08:35:13.526948Z\", \"duration\": \"0:00:50\", \"iteration\": \"45\", \"goal\": \"accuracy_max\", \"run_name\": \"VotingEnsemble\", \"run_properties\": \"classification_labels=numpy.array([0, 1]\", \"primary_metric\": 0.78794395, \"best_metric\": 0.78794395}, {\"run_id\": \"AutoML_e175bf45-5083-47e4-816e-9cdeb563239e_46\", \"run_number\": 1653467764, \"metric\": null, \"status\": \"Completed\", \"run_type\": \"azureml.scriptrun\", \"training_percent\": \"100\", \"start_time\": \"2022-05-25T08:36:56.327259Z\", \"end_time\": \"2022-05-25T08:37:00.127439Z\", \"created_time\": \"2022-05-25T08:36:04.619804Z\", \"created_time_dt\": \"2022-05-25T08:36:04.619804Z\", \"duration\": \"0:00:55\", \"iteration\": \"46\", \"goal\": \"accuracy_max\", \"run_name\": \"StackEnsemble\", \"run_properties\": \"base_learners=[('34', Pipeline(memory=None, steps=[('maxabsscaler', MaxAbsScaler(copy=True\", \"primary_metric\": 0.61360182, \"best_metric\": 0.78794395}], \"children_metrics\": {\"categories\": [0], \"series\": {\"precision_score_weighted\": [{\"categories\": [\"0\", \"1\", \"3\", \"6\", \"8\", \"10\", \"12\", \"14\", \"17\", \"20\", \"21\", \"22\", \"23\", \"24\", \"25\", \"26\", \"27\", \"28\", \"29\", \"30\", \"31\", \"32\", \"33\", \"34\", \"35\", \"36\", \"37\", \"38\", \"39\", \"40\", \"41\", \"42\", \"43\", \"44\", \"45\", \"46\"], \"mode\": \"markers\", \"name\": \"precision_score_weighted\", \"stepped\": false, \"type\": \"scatter\", \"data\": [0.705800553259797, 0.6896251701693282, 0.6899394213191239, 0.6945068120355457, 0.7407495315772944, 0.6954410456590299, 0.6942703122247251, 0.7110170291311542, 0.759912952202395, 0.6941623348169168, 0.698601227135024, 0.7575107607259666, 0.6687260389387195, 0.7716610445612498, 0.6734296742768162, 0.7673399743881031, 0.6722480443496965, 0.7596924082858104, 0.7620221648625171, 0.24979845598769534, 0.7416019983133213, 0.6860421334890281, 0.763615435707385, 0.7767059227068096, 0.23440663010146573, 0.6461511581129484, 0.6841481923919817, 0.7701854858100647, 0.7521964002669164, 0.7224341696891001, 0.7318198883153577, 0.7483478058873902, 0.6700102563680583, 0.7618203921441369, 0.7887704922377754, 0.4921677047521179]}, {\"categories\": [\"0\", \"1\", \"3\", \"6\", \"8\", \"10\", \"12\", \"14\", \"17\", \"20\", \"21\", \"22\", \"23\", \"24\", \"25\", \"26\", \"27\", \"28\", \"29\", \"30\", \"31\", \"32\", \"33\", \"34\", \"35\", \"36\", \"37\", \"38\", \"39\", \"40\", \"41\", \"42\", \"43\", \"44\", \"45\", \"46\"], \"mode\": \"lines\", \"name\": \"precision_score_weighted_max\", \"stepped\": true, \"type\": \"scatter\", \"data\": [0.705800553259797, 0.705800553259797, 0.705800553259797, 0.705800553259797, 0.7407495315772944, 0.7407495315772944, 0.7407495315772944, 0.7407495315772944, 0.759912952202395, 0.759912952202395, 0.759912952202395, 0.759912952202395, 0.759912952202395, 0.7716610445612498, 0.7716610445612498, 0.7716610445612498, 0.7716610445612498, 0.7716610445612498, 0.7716610445612498, 0.7716610445612498, 0.7716610445612498, 0.7716610445612498, 0.7716610445612498, 0.7767059227068096, 0.7767059227068096, 0.7767059227068096, 0.7767059227068096, 0.7767059227068096, 0.7767059227068096, 0.7767059227068096, 0.7767059227068096, 0.7767059227068096, 0.7767059227068096, 0.7767059227068096, 0.7887704922377754, 0.7887704922377754]}], \"balanced_accuracy\": [{\"categories\": [\"0\", \"1\", \"3\", \"6\", \"8\", \"10\", \"12\", \"14\", \"17\", \"20\", \"21\", \"22\", \"23\", \"24\", \"25\", \"26\", \"27\", \"28\", \"29\", \"30\", \"31\", \"32\", \"33\", \"34\", \"35\", \"36\", \"37\", \"38\", \"39\", \"40\", \"41\", \"42\", \"43\", \"44\", \"45\", \"46\"], \"mode\": \"markers\", \"name\": \"balanced_accuracy\", \"stepped\": false, \"type\": \"scatter\", \"data\": [0.595828495935361, 0.5745283302715894, 0.6749175772505993, 0.5920305935526378, 0.7300105432003774, 0.6898339431103151, 0.6744303339927267, 0.6657296260828305, 0.7562647374061726, 0.6678461846337962, 0.6333766411892782, 0.7570166168659163, 0.6647734985815594, 0.7663667512346091, 0.5846123511909005, 0.7587822699706022, 0.5556110507584326, 0.7595089770618887, 0.7611523690533926, 0.5, 0.736573779307795, 0.6823039057068536, 0.7567116775419823, 0.7679302463717054, 0.5, 0.6310461557167439, 0.6810950946598016, 0.7630902228868934, 0.7515852075002009, 0.71190856938806, 0.727413738118808, 0.7477940810339201, 0.668294514628255, 0.760034530620005, 0.7880306866058427, 0.6223926014738191]}, {\"categories\": [\"0\", \"1\", \"3\", \"6\", \"8\", \"10\", \"12\", \"14\", \"17\", \"20\", \"21\", \"22\", \"23\", \"24\", \"25\", \"26\", \"27\", \"28\", \"29\", \"30\", \"31\", \"32\", \"33\", \"34\", \"35\", \"36\", \"37\", \"38\", \"39\", \"40\", \"41\", \"42\", \"43\", \"44\", \"45\", \"46\"], \"mode\": \"lines\", \"name\": \"balanced_accuracy_max\", \"stepped\": true, \"type\": \"scatter\", \"data\": [0.595828495935361, 0.595828495935361, 0.6749175772505993, 0.6749175772505993, 0.7300105432003774, 0.7300105432003774, 0.7300105432003774, 0.7300105432003774, 0.7562647374061726, 0.7562647374061726, 0.7562647374061726, 0.7570166168659163, 0.7570166168659163, 0.7663667512346091, 0.7663667512346091, 0.7663667512346091, 0.7663667512346091, 0.7663667512346091, 0.7663667512346091, 0.7663667512346091, 0.7663667512346091, 0.7663667512346091, 0.7663667512346091, 0.7679302463717054, 0.7679302463717054, 0.7679302463717054, 0.7679302463717054, 0.7679302463717054, 0.7679302463717054, 0.7679302463717054, 0.7679302463717054, 0.7679302463717054, 0.7679302463717054, 0.7679302463717054, 0.7880306866058427, 0.7880306866058427]}], \"recall_score_macro\": [{\"categories\": [\"0\", \"1\", \"3\", \"6\", \"8\", \"10\", \"12\", \"14\", \"17\", \"20\", \"21\", \"22\", \"23\", \"24\", \"25\", \"26\", \"27\", \"28\", \"29\", \"30\", \"31\", \"32\", \"33\", \"34\", \"35\", \"36\", \"37\", \"38\", \"39\", \"40\", \"41\", \"42\", \"43\", \"44\", \"45\", \"46\"], \"mode\": \"markers\", \"name\": \"recall_score_macro\", \"stepped\": false, \"type\": \"scatter\", \"data\": [0.595828495935361, 0.5745283302715894, 0.6749175772505993, 0.5920305935526378, 0.7300105432003774, 0.6898339431103151, 0.6744303339927267, 0.6657296260828305, 0.7562647374061726, 0.6678461846337962, 0.6333766411892782, 0.7570166168659163, 0.6647734985815594, 0.7663667512346091, 0.5846123511909005, 0.7587822699706022, 0.5556110507584326, 0.7595089770618887, 0.7611523690533926, 0.5, 0.736573779307795, 0.6823039057068536, 0.7567116775419823, 0.7679302463717054, 0.5, 0.6310461557167439, 0.6810950946598016, 0.7630902228868934, 0.7515852075002009, 0.71190856938806, 0.727413738118808, 0.7477940810339201, 0.668294514628255, 0.760034530620005, 0.7880306866058427, 0.6223926014738191]}, {\"categories\": [\"0\", \"1\", \"3\", \"6\", \"8\", \"10\", \"12\", \"14\", \"17\", \"20\", \"21\", \"22\", \"23\", \"24\", \"25\", \"26\", \"27\", \"28\", \"29\", \"30\", \"31\", \"32\", \"33\", \"34\", \"35\", \"36\", \"37\", \"38\", \"39\", \"40\", \"41\", \"42\", \"43\", \"44\", \"45\", \"46\"], \"mode\": \"lines\", \"name\": \"recall_score_macro_max\", \"stepped\": true, \"type\": \"scatter\", \"data\": [0.595828495935361, 0.595828495935361, 0.6749175772505993, 0.6749175772505993, 0.7300105432003774, 0.7300105432003774, 0.7300105432003774, 0.7300105432003774, 0.7562647374061726, 0.7562647374061726, 0.7562647374061726, 0.7570166168659163, 0.7570166168659163, 0.7663667512346091, 0.7663667512346091, 0.7663667512346091, 0.7663667512346091, 0.7663667512346091, 0.7663667512346091, 0.7663667512346091, 0.7663667512346091, 0.7663667512346091, 0.7663667512346091, 0.7679302463717054, 0.7679302463717054, 0.7679302463717054, 0.7679302463717054, 0.7679302463717054, 0.7679302463717054, 0.7679302463717054, 0.7679302463717054, 0.7679302463717054, 0.7679302463717054, 0.7679302463717054, 0.7880306866058427, 0.7880306866058427]}], \"AUC_macro\": [{\"categories\": [\"0\", \"1\", \"3\", \"6\", \"8\", \"10\", \"12\", \"14\", \"17\", \"20\", \"21\", \"22\", \"23\", \"24\", \"25\", \"26\", \"27\", \"28\", \"29\", \"30\", \"31\", \"32\", \"33\", \"34\", \"35\", \"36\", \"37\", \"38\", \"39\", \"40\", \"41\", \"42\", \"43\", \"44\", \"45\", \"46\"], \"mode\": \"markers\", \"name\": \"AUC_macro\", \"stepped\": false, \"type\": \"scatter\", \"data\": [0.8113442343558885, 0.7954156991578053, 0.7663418233528909, 0.7615278541973958, 0.8119378342969201, 0.7788296627959175, 0.6999858629312846, 0.8121441446918429, 0.8310287075214428, 0.7876383437636812, 0.8097360731181332, 0.8326915797794703, 0.7407079986110511, 0.839505134224809, 0.7206717075884941, 0.828124148016305, 0.7807722188970836, 0.8372774071561273, 0.8309573541059116, 0.5, 0.8158099959196152, 0.7537170816906735, 0.8309546613647408, 0.8366630005709845, 0.5, 0.7042027580828127, 0.7656230162087342, 0.8224979986443264, 0.8333314132656386, 0.7889303135819755, 0.8223898921956725, 0.8314000847784403, 0.7491080971115283, 0.8324628091583623, 0.8433999771146986, 0.8387787616874074]}, {\"categories\": [\"0\", \"1\", \"3\", \"6\", \"8\", \"10\", \"12\", \"14\", \"17\", \"20\", \"21\", \"22\", \"23\", \"24\", \"25\", \"26\", \"27\", \"28\", \"29\", \"30\", \"31\", \"32\", \"33\", \"34\", \"35\", \"36\", \"37\", \"38\", \"39\", \"40\", \"41\", \"42\", \"43\", \"44\", \"45\", \"46\"], \"mode\": \"lines\", \"name\": \"AUC_macro_max\", \"stepped\": true, \"type\": \"scatter\", \"data\": [0.8113442343558885, 0.8113442343558885, 0.8113442343558885, 0.8113442343558885, 0.8119378342969201, 0.8119378342969201, 0.8119378342969201, 0.8121441446918429, 0.8310287075214428, 0.8310287075214428, 0.8310287075214428, 0.8326915797794703, 0.8326915797794703, 0.839505134224809, 0.839505134224809, 0.839505134224809, 0.839505134224809, 0.839505134224809, 0.839505134224809, 0.839505134224809, 0.839505134224809, 0.839505134224809, 0.839505134224809, 0.839505134224809, 0.839505134224809, 0.839505134224809, 0.839505134224809, 0.839505134224809, 0.839505134224809, 0.839505134224809, 0.839505134224809, 0.839505134224809, 0.839505134224809, 0.839505134224809, 0.8433999771146986, 0.8433999771146986]}], \"weighted_accuracy\": [{\"categories\": [\"0\", \"1\", \"3\", \"6\", \"8\", \"10\", \"12\", \"14\", \"17\", \"20\", \"21\", \"22\", \"23\", \"24\", \"25\", \"26\", \"27\", \"28\", \"29\", \"30\", \"31\", \"32\", \"33\", \"34\", \"35\", \"36\", \"37\", \"38\", \"39\", \"40\", \"41\", \"42\", \"43\", \"44\", \"45\", \"46\"], \"mode\": \"markers\", \"name\": \"weighted_accuracy\", \"stepped\": false, \"type\": \"scatter\", \"data\": [0.9596125507163311, 0.9601341104295945, 0.810934938477182, 0.9520350180880034, 0.7074499443323241, 0.6118996033220172, 0.8311136132121908, 0.8949211458384985, 0.701038343039994, 0.8490848248169591, 0.9166515404551079, 0.7445838952453326, 0.5916825364363777, 0.6985948338674373, 0.6629201089996442, 0.67070963783994, 0.9649274588463164, 0.7603675210329097, 0.7358213419626365, 0.002628412456154654, 0.7102288906831461, 0.6148690334021372, 0.6778770919650576, 0.6837238325397552, 0.4996693507287074, 0.6164775709423638, 0.6957959627280164, 0.6840407341361883, 0.7355697261588707, 0.6112396816869597, 0.7764102597306044, 0.7289818784321404, 0.6247013753329816, 0.7245959447435335, 0.7658624421060931, 0.8374771312311402]}, {\"categories\": [\"0\", \"1\", \"3\", \"6\", \"8\", \"10\", \"12\", \"14\", \"17\", \"20\", \"21\", \"22\", \"23\", \"24\", \"25\", \"26\", \"27\", \"28\", \"29\", \"30\", \"31\", \"32\", \"33\", \"34\", \"35\", \"36\", \"37\", \"38\", \"39\", \"40\", \"41\", \"42\", \"43\", \"44\", \"45\", \"46\"], \"mode\": \"lines\", \"name\": \"weighted_accuracy_max\", \"stepped\": true, \"type\": \"scatter\", \"data\": [0.9596125507163311, 0.9601341104295945, 0.9601341104295945, 0.9601341104295945, 0.9601341104295945, 0.9601341104295945, 0.9601341104295945, 0.9601341104295945, 0.9601341104295945, 0.9601341104295945, 0.9601341104295945, 0.9601341104295945, 0.9601341104295945, 0.9601341104295945, 0.9601341104295945, 0.9601341104295945, 0.9649274588463164, 0.9649274588463164, 0.9649274588463164, 0.9649274588463164, 0.9649274588463164, 0.9649274588463164, 0.9649274588463164, 0.9649274588463164, 0.9649274588463164, 0.9649274588463164, 0.9649274588463164, 0.9649274588463164, 0.9649274588463164, 0.9649274588463164, 0.9649274588463164, 0.9649274588463164, 0.9649274588463164, 0.9649274588463164, 0.9649274588463164, 0.9649274588463164]}], \"average_precision_score_weighted\": [{\"categories\": [\"0\", \"1\", \"3\", \"6\", \"8\", \"10\", \"12\", \"14\", \"17\", \"20\", \"21\", \"22\", \"23\", \"24\", \"25\", \"26\", \"27\", \"28\", \"29\", \"30\", \"31\", \"32\", \"33\", \"34\", \"35\", \"36\", \"37\", \"38\", \"39\", \"40\", \"41\", \"42\", \"43\", \"44\", \"45\", \"46\"], \"mode\": \"markers\", \"name\": \"average_precision_score_weighted\", \"stepped\": false, \"type\": \"scatter\", \"data\": [0.8085709882799561, 0.7928689901364798, 0.7613558275587365, 0.7474246925850091, 0.7996671264528279, 0.7757934346005203, 0.7002717796774087, 0.8003538517174964, 0.8219562931983573, 0.7828814061720402, 0.799435920205638, 0.8255341199966644, 0.7395357919705225, 0.8312810604493364, 0.7181815530605666, 0.8165556812100687, 0.772239497254134, 0.8295070581180176, 0.8220673415474798, 0.5005025144761408, 0.8069440865164348, 0.7569991109805398, 0.8186426508304987, 0.824478678208955, 0.5005025144761408, 0.7069751541027769, 0.7605115335558419, 0.8079905327880756, 0.8231372876846589, 0.7761040290594239, 0.8168380987813545, 0.8240660853807631, 0.752062558481993, 0.8243204304419702, 0.8337891203489847, 0.8294403775221948]}, {\"categories\": [\"0\", \"1\", \"3\", \"6\", \"8\", \"10\", \"12\", \"14\", \"17\", \"20\", \"21\", \"22\", \"23\", \"24\", \"25\", \"26\", \"27\", \"28\", \"29\", \"30\", \"31\", \"32\", \"33\", \"34\", \"35\", \"36\", \"37\", \"38\", \"39\", \"40\", \"41\", \"42\", \"43\", \"44\", \"45\", \"46\"], \"mode\": \"lines\", \"name\": \"average_precision_score_weighted_max\", \"stepped\": true, \"type\": \"scatter\", \"data\": [0.8085709882799561, 0.8085709882799561, 0.8085709882799561, 0.8085709882799561, 0.8085709882799561, 0.8085709882799561, 0.8085709882799561, 0.8085709882799561, 0.8219562931983573, 0.8219562931983573, 0.8219562931983573, 0.8255341199966644, 0.8255341199966644, 0.8312810604493364, 0.8312810604493364, 0.8312810604493364, 0.8312810604493364, 0.8312810604493364, 0.8312810604493364, 0.8312810604493364, 0.8312810604493364, 0.8312810604493364, 0.8312810604493364, 0.8312810604493364, 0.8312810604493364, 0.8312810604493364, 0.8312810604493364, 0.8312810604493364, 0.8312810604493364, 0.8312810604493364, 0.8312810604493364, 0.8312810604493364, 0.8312810604493364, 0.8312810604493364, 0.8337891203489847, 0.8337891203489847]}], \"f1_score_macro\": [{\"categories\": [\"0\", \"1\", \"3\", \"6\", \"8\", \"10\", \"12\", \"14\", \"17\", \"20\", \"21\", \"22\", \"23\", \"24\", \"25\", \"26\", \"27\", \"28\", \"29\", \"30\", \"31\", \"32\", \"33\", \"34\", \"35\", \"36\", \"37\", \"38\", \"39\", \"40\", \"41\", \"42\", \"43\", \"44\", \"45\", \"46\"], \"mode\": \"markers\", \"name\": \"f1_score_macro\", \"stepped\": false, \"type\": \"scatter\", \"data\": [0.5290751834349074, 0.49820311795859396, 0.6682717214775147, 0.5259737168241208, 0.7248525464584517, 0.6869983937610763, 0.665139574764037, 0.6464633969390752, 0.7549225983370647, 0.6549496744513754, 0.5994373635442476, 0.7570284097757785, 0.6627033239396858, 0.7651927603262674, 0.49257687576404185, 0.7566677385102785, 0.46512132508987447, 0.759314556557529, 0.7608179729607598, 0.33305756600772657, 0.7338580942387009, 0.6807306462551259, 0.754746879761632, 0.765350020293957, 0.3262160341401969, 0.6195970886612212, 0.6787790018207881, 0.7615159833115402, 0.7510742399954682, 0.7090439123653326, 0.7251125698128249, 0.7475498268048593, 0.6676202058587135, 0.7591447872857179, 0.7877474200233474, 0.5342711789081838]}, {\"categories\": [\"0\", \"1\", \"3\", \"6\", \"8\", \"10\", \"12\", \"14\", \"17\", \"20\", \"21\", \"22\", \"23\", \"24\", \"25\", \"26\", \"27\", \"28\", \"29\", \"30\", \"31\", \"32\", \"33\", \"34\", \"35\", \"36\", \"37\", \"38\", \"39\", \"40\", \"41\", \"42\", \"43\", \"44\", \"45\", \"46\"], \"mode\": \"lines\", \"name\": \"f1_score_macro_max\", \"stepped\": true, \"type\": \"scatter\", \"data\": [0.5290751834349074, 0.5290751834349074, 0.6682717214775147, 0.6682717214775147, 0.7248525464584517, 0.7248525464584517, 0.7248525464584517, 0.7248525464584517, 0.7549225983370647, 0.7549225983370647, 0.7549225983370647, 0.7570284097757785, 0.7570284097757785, 0.7651927603262674, 0.7651927603262674, 0.7651927603262674, 0.7651927603262674, 0.7651927603262674, 0.7651927603262674, 0.7651927603262674, 0.7651927603262674, 0.7651927603262674, 0.7651927603262674, 0.765350020293957, 0.765350020293957, 0.765350020293957, 0.765350020293957, 0.765350020293957, 0.765350020293957, 0.765350020293957, 0.765350020293957, 0.765350020293957, 0.765350020293957, 0.765350020293957, 0.7877474200233474, 0.7877474200233474]}], \"AUC_micro\": [{\"categories\": [\"0\", \"1\", \"3\", \"6\", \"8\", \"10\", \"12\", \"14\", \"17\", \"20\", \"21\", \"22\", \"23\", \"24\", \"25\", \"26\", \"27\", \"28\", \"29\", \"30\", \"31\", \"32\", \"33\", \"34\", \"35\", \"36\", \"37\", \"38\", \"39\", \"40\", \"41\", \"42\", \"43\", \"44\", \"45\", \"46\"], \"mode\": \"markers\", \"name\": \"AUC_micro\", \"stepped\": false, \"type\": \"scatter\", \"data\": [0.6851874070550139, 0.675324468311644, 0.7421843780703907, 0.6641354548283727, 0.8047591460744674, 0.777686492057218, 0.6722890072097806, 0.7395267200493549, 0.8371799490738954, 0.7487379589666946, 0.7165287745514595, 0.8368413988413004, 0.7488114296095689, 0.8453209597408844, 0.6293129102116048, 0.8354626344057828, 0.6592167313085799, 0.8379858405676, 0.8357345686710342, 0.49954719874962744, 0.8158472264323503, 0.7573832969202581, 0.8363010537687608, 0.8423665381750821, 0.4841553728633928, 0.6963654283162187, 0.7566124390811471, 0.8299285447227296, 0.8378655087321685, 0.8004404137878607, 0.8103278424250182, 0.8366148885706818, 0.7505988188998833, 0.8357267899979076, 0.841470528992134, 0.746339237769398]}, {\"categories\": [\"0\", \"1\", \"3\", \"6\", \"8\", \"10\", \"12\", \"14\", \"17\", \"20\", \"21\", \"22\", \"23\", \"24\", \"25\", \"26\", \"27\", \"28\", \"29\", \"30\", \"31\", \"32\", \"33\", \"34\", \"35\", \"36\", \"37\", \"38\", \"39\", \"40\", \"41\", \"42\", \"43\", \"44\", \"45\", \"46\"], \"mode\": \"lines\", \"name\": \"AUC_micro_max\", \"stepped\": true, \"type\": \"scatter\", \"data\": [0.6851874070550139, 0.6851874070550139, 0.7421843780703907, 0.7421843780703907, 0.8047591460744674, 0.8047591460744674, 0.8047591460744674, 0.8047591460744674, 0.8371799490738954, 0.8371799490738954, 0.8371799490738954, 0.8371799490738954, 0.8371799490738954, 0.8453209597408844, 0.8453209597408844, 0.8453209597408844, 0.8453209597408844, 0.8453209597408844, 0.8453209597408844, 0.8453209597408844, 0.8453209597408844, 0.8453209597408844, 0.8453209597408844, 0.8453209597408844, 0.8453209597408844, 0.8453209597408844, 0.8453209597408844, 0.8453209597408844, 0.8453209597408844, 0.8453209597408844, 0.8453209597408844, 0.8453209597408844, 0.8453209597408844, 0.8453209597408844, 0.8453209597408844, 0.8453209597408844]}], \"matthews_correlation\": [{\"categories\": [\"0\", \"1\", \"3\", \"6\", \"8\", \"10\", \"12\", \"14\", \"17\", \"20\", \"21\", \"22\", \"23\", \"24\", \"25\", \"26\", \"27\", \"28\", \"29\", \"30\", \"31\", \"32\", \"33\", \"34\", \"35\", \"36\", \"37\", \"38\", \"39\", \"40\", \"41\", \"42\", \"43\", \"44\", \"45\", \"46\"], \"mode\": \"markers\", \"name\": \"matthews_correlation\", \"stepped\": false, \"type\": \"scatter\", \"data\": [0.27744332372818165, 0.23641717142517588, 0.36380027540197, 0.2640381020736765, 0.46871659577903546, 0.384481450031635, 0.3675505353286276, 0.3734914931337107, 0.5155168949314537, 0.3603608603982188, 0.3245625511538839, 0.5143376681830243, 0.33304283790158573, 0.5377183569598345, 0.23040420451940435, 0.5256485346355504, 0.1954320011444958, 0.5187900767678385, 0.5227867073381629, 0.0, 0.4767584844320472, 0.36796372043096726, 0.5197051266994996, 0.5437308629931252, 0.0, 0.27496991419311084, 0.36413679888041683, 0.5329588525405596, 0.5031963255225236, 0.4342307806846243, 0.45817306193892077, 0.49575759212086506, 0.3380111828504365, 0.5212018999491952, 0.5764402348320458, 0.24638834560521292]}, {\"categories\": [\"0\", \"1\", \"3\", \"6\", \"8\", \"10\", \"12\", \"14\", \"17\", \"20\", \"21\", \"22\", \"23\", \"24\", \"25\", \"26\", \"27\", \"28\", \"29\", \"30\", \"31\", \"32\", \"33\", \"34\", \"35\", \"36\", \"37\", \"38\", \"39\", \"40\", \"41\", \"42\", \"43\", \"44\", \"45\", \"46\"], \"mode\": \"lines\", \"name\": \"matthews_correlation_max\", \"stepped\": true, \"type\": \"scatter\", \"data\": [0.27744332372818165, 0.27744332372818165, 0.36380027540197, 0.36380027540197, 0.46871659577903546, 0.46871659577903546, 0.46871659577903546, 0.46871659577903546, 0.5155168949314537, 0.5155168949314537, 0.5155168949314537, 0.5155168949314537, 0.5155168949314537, 0.5377183569598345, 0.5377183569598345, 0.5377183569598345, 0.5377183569598345, 0.5377183569598345, 0.5377183569598345, 0.5377183569598345, 0.5377183569598345, 0.5377183569598345, 0.5377183569598345, 0.5437308629931252, 0.5437308629931252, 0.5437308629931252, 0.5437308629931252, 0.5437308629931252, 0.5437308629931252, 0.5437308629931252, 0.5437308629931252, 0.5437308629931252, 0.5437308629931252, 0.5437308629931252, 0.5764402348320458, 0.5764402348320458]}], \"precision_score_macro\": [{\"categories\": [\"0\", \"1\", \"3\", \"6\", \"8\", \"10\", \"12\", \"14\", \"17\", \"20\", \"21\", \"22\", \"23\", \"24\", \"25\", \"26\", \"27\", \"28\", \"29\", \"30\", \"31\", \"32\", \"33\", \"34\", \"35\", \"36\", \"37\", \"38\", \"39\", \"40\", \"41\", \"42\", \"43\", \"44\", \"45\", \"46\"], \"mode\": \"markers\", \"name\": \"precision_score_macro\", \"stepped\": false, \"type\": \"scatter\", \"data\": [0.705311083882858, 0.6888907489085317, 0.6891699723131958, 0.6938819054690573, 0.7388072689658063, 0.6946865773980296, 0.6936736485402946, 0.7104772209961332, 0.7592619115036372, 0.6935555432228444, 0.6979665316446787, 0.757321393169146, 0.6682878967475924, 0.7713777354177707, 0.6691830728673474, 0.7669310406578367, 0.671805954450633, 0.759281149760971, 0.7616346911192444, 0.24977359937481375, 0.7402073601596966, 0.6856763712296507, 0.7630320579104517, 0.7758691002936156, 0.24207768643169894, 0.64425037915845, 0.6830488061293878, 0.7699168312994209, 0.7516111390301374, 0.7225132018309915, 0.730786269156081, 0.7479636297865772, 0.669720224255348, 0.7611690399714202, 0.7884097992534509, 0.495153037295754]}, {\"categories\": [\"0\", \"1\", \"3\", \"6\", \"8\", \"10\", \"12\", \"14\", \"17\", \"20\", \"21\", \"22\", \"23\", \"24\", \"25\", \"26\", \"27\", \"28\", \"29\", \"30\", \"31\", \"32\", \"33\", \"34\", \"35\", \"36\", \"37\", \"38\", \"39\", \"40\", \"41\", \"42\", \"43\", \"44\", \"45\", \"46\"], \"mode\": \"lines\", \"name\": \"precision_score_macro_max\", \"stepped\": true, \"type\": \"scatter\", \"data\": [0.705311083882858, 0.705311083882858, 0.705311083882858, 0.705311083882858, 0.7388072689658063, 0.7388072689658063, 0.7388072689658063, 0.7388072689658063, 0.7592619115036372, 0.7592619115036372, 0.7592619115036372, 0.7592619115036372, 0.7592619115036372, 0.7713777354177707, 0.7713777354177707, 0.7713777354177707, 0.7713777354177707, 0.7713777354177707, 0.7713777354177707, 0.7713777354177707, 0.7713777354177707, 0.7713777354177707, 0.7713777354177707, 0.7758691002936156, 0.7758691002936156, 0.7758691002936156, 0.7758691002936156, 0.7758691002936156, 0.7758691002936156, 0.7758691002936156, 0.7758691002936156, 0.7758691002936156, 0.7758691002936156, 0.7758691002936156, 0.7884097992534509, 0.7884097992534509]}], \"norm_macro_recall\": [{\"categories\": [\"0\", \"1\", \"3\", \"6\", \"8\", \"10\", \"12\", \"14\", \"17\", \"20\", \"21\", \"22\", \"23\", \"24\", \"25\", \"26\", \"27\", \"28\", \"29\", \"30\", \"31\", \"32\", \"33\", \"34\", \"35\", \"36\", \"37\", \"38\", \"39\", \"40\", \"41\", \"42\", \"43\", \"44\", \"45\", \"46\"], \"mode\": \"markers\", \"name\": \"norm_macro_recall\", \"stepped\": false, \"type\": \"scatter\", \"data\": [0.1916569918707186, 0.14905666054317568, 0.3498351545011835, 0.18406118710527153, 0.46002108640073425, 0.3796678862206051, 0.34886066798543935, 0.3314592521656523, 0.5125294748123229, 0.33569236926757984, 0.26675328237854945, 0.5140332337318125, 0.32954699716309377, 0.5327335024691959, 0.16922470238179366, 0.5175645399411807, 0.1112221015168624, 0.5190179541237582, 0.5223047381067647, 0.0, 0.47314755861556845, 0.3646078114136818, 0.5134233550839414, 0.5358604927433881, 0.0, 0.2620923114334671, 0.36219018931958114, 0.5261804457737638, 0.5031704150003812, 0.4238171387760954, 0.4548274762375981, 0.4955881620678192, 0.33658902925648526, 0.5200690612399889, 0.576061373211667, 0.24478520294762673]}, {\"categories\": [\"0\", \"1\", \"3\", \"6\", \"8\", \"10\", \"12\", \"14\", \"17\", \"20\", \"21\", \"22\", \"23\", \"24\", \"25\", \"26\", \"27\", \"28\", \"29\", \"30\", \"31\", \"32\", \"33\", \"34\", \"35\", \"36\", \"37\", \"38\", \"39\", \"40\", \"41\", \"42\", \"43\", \"44\", \"45\", \"46\"], \"mode\": \"lines\", \"name\": \"norm_macro_recall_max\", \"stepped\": true, \"type\": \"scatter\", \"data\": [0.1916569918707186, 0.1916569918707186, 0.3498351545011835, 0.3498351545011835, 0.46002108640073425, 0.46002108640073425, 0.46002108640073425, 0.46002108640073425, 0.5125294748123229, 0.5125294748123229, 0.5125294748123229, 0.5140332337318125, 0.5140332337318125, 0.5327335024691959, 0.5327335024691959, 0.5327335024691959, 0.5327335024691959, 0.5327335024691959, 0.5327335024691959, 0.5327335024691959, 0.5327335024691959, 0.5327335024691959, 0.5327335024691959, 0.5358604927433881, 0.5358604927433881, 0.5358604927433881, 0.5358604927433881, 0.5358604927433881, 0.5358604927433881, 0.5358604927433881, 0.5358604927433881, 0.5358604927433881, 0.5358604927433881, 0.5358604927433881, 0.576061373211667, 0.576061373211667]}], \"f1_score_micro\": [{\"categories\": [\"0\", \"1\", \"3\", \"6\", \"8\", \"10\", \"12\", \"14\", \"17\", \"20\", \"21\", \"22\", \"23\", \"24\", \"25\", \"26\", \"27\", \"28\", \"29\", \"30\", \"31\", \"32\", \"33\", \"34\", \"35\", \"36\", \"37\", \"38\", \"39\", \"40\", \"41\", \"42\", \"43\", \"44\", \"45\", \"46\"], \"mode\": \"markers\", \"name\": \"f1_score_micro\", \"stepped\": false, \"type\": \"scatter\", \"data\": [0.5946042623826416, 0.5741124703739324, 0.6745049238530225, 0.5907218034760998, 0.7267492106914994, 0.6889172883307144, 0.6736540245647056, 0.6653551066332736, 0.755670118433161, 0.6668536302319221, 0.6325490434322718, 0.757343924642615, 0.6645708991253708, 0.766401247823614, 0.5724088274699495, 0.7586551917249248, 0.5560826948627682, 0.7594257513888785, 0.7610769218216175, 0.49954719874962494, 0.734494051583714, 0.6823369139335054, 0.7562985254679033, 0.7670167791657889, 0.4841553728633954, 0.6262085647892922, 0.6792794013258144, 0.7631498458541824, 0.7511627574898632, 0.7128589549579079, 0.7259872896999778, 0.7477682795762881, 0.6684066790037023, 0.7594493417973647, 0.7879439518496862, 0.6136018173662379]}, {\"categories\": [\"0\", \"1\", \"3\", \"6\", \"8\", \"10\", \"12\", \"14\", \"17\", \"20\", \"21\", \"22\", \"23\", \"24\", \"25\", \"26\", \"27\", \"28\", \"29\", \"30\", \"31\", \"32\", \"33\", \"34\", \"35\", \"36\", \"37\", \"38\", \"39\", \"40\", \"41\", \"42\", \"43\", \"44\", \"45\", \"46\"], \"mode\": \"lines\", \"name\": \"f1_score_micro_max\", \"stepped\": true, \"type\": \"scatter\", \"data\": [0.5946042623826416, 0.5946042623826416, 0.6745049238530225, 0.6745049238530225, 0.7267492106914994, 0.7267492106914994, 0.7267492106914994, 0.7267492106914994, 0.755670118433161, 0.755670118433161, 0.755670118433161, 0.757343924642615, 0.757343924642615, 0.766401247823614, 0.766401247823614, 0.766401247823614, 0.766401247823614, 0.766401247823614, 0.766401247823614, 0.766401247823614, 0.766401247823614, 0.766401247823614, 0.766401247823614, 0.7670167791657889, 0.7670167791657889, 0.7670167791657889, 0.7670167791657889, 0.7670167791657889, 0.7670167791657889, 0.7670167791657889, 0.7670167791657889, 0.7670167791657889, 0.7670167791657889, 0.7670167791657889, 0.7879439518496862, 0.7879439518496862]}], \"accuracy\": [{\"categories\": [\"0\", \"1\", \"3\", \"6\", \"8\", \"10\", \"12\", \"14\", \"17\", \"20\", \"21\", \"22\", \"23\", \"24\", \"25\", \"26\", \"27\", \"28\", \"29\", \"30\", \"31\", \"32\", \"33\", \"34\", \"35\", \"36\", \"37\", \"38\", \"39\", \"40\", \"41\", \"42\", \"43\", \"44\", \"45\", \"46\"], \"mode\": \"markers\", \"name\": \"accuracy\", \"stepped\": false, \"type\": \"scatter\", \"data\": [0.5946042623826457, 0.5741124703739368, 0.6745049238530201, 0.5907218034761036, 0.7267492106914928, 0.6889172883307046, 0.6736540245647039, 0.6653551066332739, 0.7556701184331536, 0.6668536302319212, 0.6325490434322739, 0.7573439246426089, 0.6645708991253604, 0.7664012478236062, 0.572408827469945, 0.7586551917249165, 0.556082694862773, 0.7594257513888729, 0.7610769218216109, 0.4995471987496127, 0.7344940515837071, 0.6823369139334957, 0.7562985254678951, 0.7670167791657807, 0.4841553728633928, 0.6262085647892832, 0.6792794013258078, 0.7631498458541742, 0.7511627574898567, 0.712858954957898, 0.7259872896999735, 0.7477682795762813, 0.6684066790036933, 0.7594493417973578, 0.7879439518496805, 0.6136018173662372]}, {\"categories\": [\"0\", \"1\", \"3\", \"6\", \"8\", \"10\", \"12\", \"14\", \"17\", \"20\", \"21\", \"22\", \"23\", \"24\", \"25\", \"26\", \"27\", \"28\", \"29\", \"30\", \"31\", \"32\", \"33\", \"34\", \"35\", \"36\", \"37\", \"38\", \"39\", \"40\", \"41\", \"42\", \"43\", \"44\", \"45\", \"46\"], \"mode\": \"lines\", \"name\": \"accuracy_max\", \"stepped\": true, \"type\": \"scatter\", \"data\": [0.5946042623826457, 0.5946042623826457, 0.6745049238530201, 0.6745049238530201, 0.7267492106914928, 0.7267492106914928, 0.7267492106914928, 0.7267492106914928, 0.7556701184331536, 0.7556701184331536, 0.7556701184331536, 0.7573439246426089, 0.7573439246426089, 0.7664012478236062, 0.7664012478236062, 0.7664012478236062, 0.7664012478236062, 0.7664012478236062, 0.7664012478236062, 0.7664012478236062, 0.7664012478236062, 0.7664012478236062, 0.7664012478236062, 0.7670167791657807, 0.7670167791657807, 0.7670167791657807, 0.7670167791657807, 0.7670167791657807, 0.7670167791657807, 0.7670167791657807, 0.7670167791657807, 0.7670167791657807, 0.7670167791657807, 0.7670167791657807, 0.7879439518496805, 0.7879439518496805]}], \"precision_score_micro\": [{\"categories\": [\"0\", \"1\", \"3\", \"6\", \"8\", \"10\", \"12\", \"14\", \"17\", \"20\", \"21\", \"22\", \"23\", \"24\", \"25\", \"26\", \"27\", \"28\", \"29\", \"30\", \"31\", \"32\", \"33\", \"34\", \"35\", \"36\", \"37\", \"38\", \"39\", \"40\", \"41\", \"42\", \"43\", \"44\", \"45\", \"46\"], \"mode\": \"markers\", \"name\": \"precision_score_micro\", \"stepped\": false, \"type\": \"scatter\", \"data\": [0.5946042623826437, 0.5741124703739346, 0.6745049238530232, 0.590721803476102, 0.7267492106914992, 0.688917288330714, 0.6736540245647064, 0.6653551066332751, 0.7556701184331607, 0.6668536302319232, 0.6325490434322734, 0.7573439246426149, 0.6645708991253707, 0.7664012478236137, 0.5724088274699499, 0.7586551917249242, 0.5560826948627706, 0.7594257513888785, 0.7610769218216175, 0.4995471987496275, 0.7344940515837135, 0.6823369139335052, 0.7562985254679028, 0.7670167791657885, 0.4841553728633979, 0.6262085647892922, 0.6792794013258145, 0.7631498458541822, 0.7511627574898632, 0.7128589549579076, 0.7259872896999781, 0.7477682795762881, 0.668406679003702, 0.7594493417973645, 0.7879439518496862, 0.613601817366239]}, {\"categories\": [\"0\", \"1\", \"3\", \"6\", \"8\", \"10\", \"12\", \"14\", \"17\", \"20\", \"21\", \"22\", \"23\", \"24\", \"25\", \"26\", \"27\", \"28\", \"29\", \"30\", \"31\", \"32\", \"33\", \"34\", \"35\", \"36\", \"37\", \"38\", \"39\", \"40\", \"41\", \"42\", \"43\", \"44\", \"45\", \"46\"], \"mode\": \"lines\", \"name\": \"precision_score_micro_max\", \"stepped\": true, \"type\": \"scatter\", \"data\": [0.5946042623826437, 0.5946042623826437, 0.6745049238530232, 0.6745049238530232, 0.7267492106914992, 0.7267492106914992, 0.7267492106914992, 0.7267492106914992, 0.7556701184331607, 0.7556701184331607, 0.7556701184331607, 0.7573439246426149, 0.7573439246426149, 0.7664012478236137, 0.7664012478236137, 0.7664012478236137, 0.7664012478236137, 0.7664012478236137, 0.7664012478236137, 0.7664012478236137, 0.7664012478236137, 0.7664012478236137, 0.7664012478236137, 0.7670167791657885, 0.7670167791657885, 0.7670167791657885, 0.7670167791657885, 0.7670167791657885, 0.7670167791657885, 0.7670167791657885, 0.7670167791657885, 0.7670167791657885, 0.7670167791657885, 0.7670167791657885, 0.7879439518496862, 0.7879439518496862]}], \"AUC_weighted\": [{\"categories\": [\"0\", \"1\", \"3\", \"6\", \"8\", \"10\", \"12\", \"14\", \"17\", \"20\", \"21\", \"22\", \"23\", \"24\", \"25\", \"26\", \"27\", \"28\", \"29\", \"30\", \"31\", \"32\", \"33\", \"34\", \"35\", \"36\", \"37\", \"38\", \"39\", \"40\", \"41\", \"42\", \"43\", \"44\", \"45\", \"46\"], \"mode\": \"markers\", \"name\": \"AUC_weighted\", \"stepped\": false, \"type\": \"scatter\", \"data\": [0.8113442343558885, 0.7954156991578053, 0.7663418233528909, 0.7615278541973958, 0.8119378342969201, 0.7788296627959175, 0.6999858629312845, 0.812144144691843, 0.8310287075214429, 0.7876383437636811, 0.8097360731181332, 0.8326915797794703, 0.7407079986110512, 0.839505134224809, 0.7206717075884941, 0.828124148016305, 0.7807722188970836, 0.8372774071561273, 0.8309573541059116, 0.5, 0.8158099959196151, 0.7537170816906735, 0.8309546613647408, 0.8366630005709845, 0.5, 0.7042027580828127, 0.7656230162087342, 0.8224979986443264, 0.8333314132656386, 0.7889303135819754, 0.8223898921956724, 0.8314000847784402, 0.7491080971115283, 0.8324628091583623, 0.8433999771146986, 0.8387787616874074]}, {\"categories\": [\"0\", \"1\", \"3\", \"6\", \"8\", \"10\", \"12\", \"14\", \"17\", \"20\", \"21\", \"22\", \"23\", \"24\", \"25\", \"26\", \"27\", \"28\", \"29\", \"30\", \"31\", \"32\", \"33\", \"34\", \"35\", \"36\", \"37\", \"38\", \"39\", \"40\", \"41\", \"42\", \"43\", \"44\", \"45\", \"46\"], \"mode\": \"lines\", \"name\": \"AUC_weighted_max\", \"stepped\": true, \"type\": \"scatter\", \"data\": [0.8113442343558885, 0.8113442343558885, 0.8113442343558885, 0.8113442343558885, 0.8119378342969201, 0.8119378342969201, 0.8119378342969201, 0.812144144691843, 0.8310287075214429, 0.8310287075214429, 0.8310287075214429, 0.8326915797794703, 0.8326915797794703, 0.839505134224809, 0.839505134224809, 0.839505134224809, 0.839505134224809, 0.839505134224809, 0.839505134224809, 0.839505134224809, 0.839505134224809, 0.839505134224809, 0.839505134224809, 0.839505134224809, 0.839505134224809, 0.839505134224809, 0.839505134224809, 0.839505134224809, 0.839505134224809, 0.839505134224809, 0.839505134224809, 0.839505134224809, 0.839505134224809, 0.839505134224809, 0.8433999771146986, 0.8433999771146986]}], \"recall_score_weighted\": [{\"categories\": [\"0\", \"1\", \"3\", \"6\", \"8\", \"10\", \"12\", \"14\", \"17\", \"20\", \"21\", \"22\", \"23\", \"24\", \"25\", \"26\", \"27\", \"28\", \"29\", \"30\", \"31\", \"32\", \"33\", \"34\", \"35\", \"36\", \"37\", \"38\", \"39\", \"40\", \"41\", \"42\", \"43\", \"44\", \"45\", \"46\"], \"mode\": \"markers\", \"name\": \"recall_score_weighted\", \"stepped\": false, \"type\": \"scatter\", \"data\": [0.5946042623826394, 0.5741124703739302, 0.6745049238530219, 0.5907218034760976, 0.7267492106914999, 0.6889172883307149, 0.6736540245647047, 0.6653551066332719, 0.7556701184331613, 0.6668536302319211, 0.6325490434322703, 0.757343924642615, 0.6645708991253709, 0.7664012478236142, 0.5724088274699491, 0.7586551917249253, 0.5560826948627657, 0.7594257513888785, 0.7610769218216173, 0.4995471987496224, 0.7344940515837142, 0.6823369139335056, 0.7562985254679039, 0.7670167791657894, 0.48415537286339294, 0.6262085647892921, 0.6792794013258143, 0.7631498458541828, 0.7511627574898632, 0.7128589549579083, 0.7259872896999777, 0.747768279576288, 0.6684066790037025, 0.7594493417973649, 0.7879439518496862, 0.6136018173662366]}, {\"categories\": [\"0\", \"1\", \"3\", \"6\", \"8\", \"10\", \"12\", \"14\", \"17\", \"20\", \"21\", \"22\", \"23\", \"24\", \"25\", \"26\", \"27\", \"28\", \"29\", \"30\", \"31\", \"32\", \"33\", \"34\", \"35\", \"36\", \"37\", \"38\", \"39\", \"40\", \"41\", \"42\", \"43\", \"44\", \"45\", \"46\"], \"mode\": \"lines\", \"name\": \"recall_score_weighted_max\", \"stepped\": true, \"type\": \"scatter\", \"data\": [0.5946042623826394, 0.5946042623826394, 0.6745049238530219, 0.6745049238530219, 0.7267492106914999, 0.7267492106914999, 0.7267492106914999, 0.7267492106914999, 0.7556701184331613, 0.7556701184331613, 0.7556701184331613, 0.757343924642615, 0.757343924642615, 0.7664012478236142, 0.7664012478236142, 0.7664012478236142, 0.7664012478236142, 0.7664012478236142, 0.7664012478236142, 0.7664012478236142, 0.7664012478236142, 0.7664012478236142, 0.7664012478236142, 0.7670167791657894, 0.7670167791657894, 0.7670167791657894, 0.7670167791657894, 0.7670167791657894, 0.7670167791657894, 0.7670167791657894, 0.7670167791657894, 0.7670167791657894, 0.7670167791657894, 0.7670167791657894, 0.7879439518496862, 0.7879439518496862]}], \"f1_score_weighted\": [{\"categories\": [\"0\", \"1\", \"3\", \"6\", \"8\", \"10\", \"12\", \"14\", \"17\", \"20\", \"21\", \"22\", \"23\", \"24\", \"25\", \"26\", \"27\", \"28\", \"29\", \"30\", \"31\", \"32\", \"33\", \"34\", \"35\", \"36\", \"37\", \"38\", \"39\", \"40\", \"41\", \"42\", \"43\", \"44\", \"45\", \"46\"], \"mode\": \"markers\", \"name\": \"f1_score_weighted\", \"stepped\": false, \"type\": \"scatter\", \"data\": [0.5279877329638851, 0.4979112659171807, 0.6684158077869167, 0.5248772318582806, 0.7241487156049979, 0.6869002683259714, 0.6649833886471337, 0.6464541141483177, 0.7549455288714462, 0.6546437654245113, 0.5990545948995147, 0.7572870447532376, 0.6628192592349038, 0.7653554429650238, 0.4864065834016742, 0.7568098295683885, 0.4656776082292643, 0.7594786643816216, 0.760974191545939, 0.3329792654837984, 0.7335013772500181, 0.6809318716230591, 0.7548256127325181, 0.7652898944882066, 0.31587867744639875, 0.6180146510513815, 0.6784141863471386, 0.7616860130139607, 0.7511555274993422, 0.7095209298532408, 0.7249016228997398, 0.7477291899415482, 0.6678225483740946, 0.7591757771876864, 0.7878846136565671, 0.5290666370546561]}, {\"categories\": [\"0\", \"1\", \"3\", \"6\", \"8\", \"10\", \"12\", \"14\", \"17\", \"20\", \"21\", \"22\", \"23\", \"24\", \"25\", \"26\", \"27\", \"28\", \"29\", \"30\", \"31\", \"32\", \"33\", \"34\", \"35\", \"36\", \"37\", \"38\", \"39\", \"40\", \"41\", \"42\", \"43\", \"44\", \"45\", \"46\"], \"mode\": \"lines\", \"name\": \"f1_score_weighted_max\", \"stepped\": true, \"type\": \"scatter\", \"data\": [0.5279877329638851, 0.5279877329638851, 0.6684158077869167, 0.6684158077869167, 0.7241487156049979, 0.7241487156049979, 0.7241487156049979, 0.7241487156049979, 0.7549455288714462, 0.7549455288714462, 0.7549455288714462, 0.7572870447532376, 0.7572870447532376, 0.7653554429650238, 0.7653554429650238, 0.7653554429650238, 0.7653554429650238, 0.7653554429650238, 0.7653554429650238, 0.7653554429650238, 0.7653554429650238, 0.7653554429650238, 0.7653554429650238, 0.7653554429650238, 0.7653554429650238, 0.7653554429650238, 0.7653554429650238, 0.7653554429650238, 0.7653554429650238, 0.7653554429650238, 0.7653554429650238, 0.7653554429650238, 0.7653554429650238, 0.7653554429650238, 0.7878846136565671, 0.7878846136565671]}], \"log_loss\": [{\"categories\": [\"0\", \"1\", \"3\", \"6\", \"8\", \"10\", \"12\", \"14\", \"17\", \"20\", \"21\", \"22\", \"23\", \"24\", \"25\", \"26\", \"27\", \"28\", \"29\", \"30\", \"31\", \"32\", \"33\", \"34\", \"35\", \"36\", \"37\", \"38\", \"39\", \"40\", \"41\", \"42\", \"43\", \"44\", \"45\", \"46\"], \"mode\": \"markers\", \"name\": \"log_loss\", \"stepped\": false, \"type\": \"scatter\", \"data\": [1.3236167842283624, 1.4153153730107269, 0.6744295835396732, 0.8253141777525044, 0.6258921792505863, 0.5648082175055229, 1.70883530434336, 0.6997412450579401, 0.5461102435436972, 0.5922971039112812, 0.6937244878200561, 0.514039800302376, 0.5985764648796628, 0.49174946630774546, 0.6820173090267916, 0.501968917546011, 1.5123287652994064, 0.5756714480805378, 0.5549018588605537, 1.5303491572818433, 0.603102303291734, 0.5772879624181253, 0.4976290636733685, 0.518747937905413, 0.6949393360507912, 0.6560359523111099, 0.6311123759641784, 0.5090666919284186, 0.556263126050117, 0.5676733397904514, 0.6083609289241396, 0.5430873306648518, 0.5916638917034781, 0.5347037039551049, 0.5562988854684747, 0.6016359851628281]}, {\"categories\": [\"0\", \"1\", \"3\", \"6\", \"8\", \"10\", \"12\", \"14\", \"17\", \"20\", \"21\", \"22\", \"23\", \"24\", \"25\", \"26\", \"27\", \"28\", \"29\", \"30\", \"31\", \"32\", \"33\", \"34\", \"35\", \"36\", \"37\", \"38\", \"39\", \"40\", \"41\", \"42\", \"43\", \"44\", \"45\", \"46\"], \"mode\": \"lines\", \"name\": \"log_loss_min\", \"stepped\": true, \"type\": \"scatter\", \"data\": [1.3236167842283624, 1.3236167842283624, 0.6744295835396732, 0.6744295835396732, 0.6258921792505863, 0.5648082175055229, 0.5648082175055229, 0.5648082175055229, 0.5461102435436972, 0.5461102435436972, 0.5461102435436972, 0.514039800302376, 0.514039800302376, 0.49174946630774546, 0.49174946630774546, 0.49174946630774546, 0.49174946630774546, 0.49174946630774546, 0.49174946630774546, 0.49174946630774546, 0.49174946630774546, 0.49174946630774546, 0.49174946630774546, 0.49174946630774546, 0.49174946630774546, 0.49174946630774546, 0.49174946630774546, 0.49174946630774546, 0.49174946630774546, 0.49174946630774546, 0.49174946630774546, 0.49174946630774546, 0.49174946630774546, 0.49174946630774546, 0.49174946630774546, 0.49174946630774546]}], \"average_precision_score_macro\": [{\"categories\": [\"0\", \"1\", \"3\", \"6\", \"8\", \"10\", \"12\", \"14\", \"17\", \"20\", \"21\", \"22\", \"23\", \"24\", \"25\", \"26\", \"27\", \"28\", \"29\", \"30\", \"31\", \"32\", \"33\", \"34\", \"35\", \"36\", \"37\", \"38\", \"39\", \"40\", \"41\", \"42\", \"43\", \"44\", \"45\", \"46\"], \"mode\": \"markers\", \"name\": \"average_precision_score_macro\", \"stepped\": false, \"type\": \"scatter\", \"data\": [0.8082112691341622, 0.7924437808064089, 0.7611573295878653, 0.7467538159874948, 0.7991104221785467, 0.7754256571967337, 0.7000534795407766, 0.7999157699136576, 0.8216775521968244, 0.7825586891193442, 0.7989855967472163, 0.8253251701637507, 0.7391192850202328, 0.831065846141734, 0.7181579585732663, 0.8164883339295803, 0.7719114574127373, 0.8291385309206658, 0.8218674131074104, 0.5, 0.8066806032512002, 0.75680737240536, 0.8185326018641119, 0.823995146568661, 0.5, 0.7065414438678433, 0.7600805690902099, 0.8079597332828409, 0.8229913976408818, 0.7759565285730179, 0.816722467574186, 0.8239339127138275, 0.7519021996250181, 0.8242187061876062, 0.8335924711599372, 0.8291843704508197]}, {\"categories\": [\"0\", \"1\", \"3\", \"6\", \"8\", \"10\", \"12\", \"14\", \"17\", \"20\", \"21\", \"22\", \"23\", \"24\", \"25\", \"26\", \"27\", \"28\", \"29\", \"30\", \"31\", \"32\", \"33\", \"34\", \"35\", \"36\", \"37\", \"38\", \"39\", \"40\", \"41\", \"42\", \"43\", \"44\", \"45\", \"46\"], \"mode\": \"lines\", \"name\": \"average_precision_score_macro_max\", \"stepped\": true, \"type\": \"scatter\", \"data\": [0.8082112691341622, 0.8082112691341622, 0.8082112691341622, 0.8082112691341622, 0.8082112691341622, 0.8082112691341622, 0.8082112691341622, 0.8082112691341622, 0.8216775521968244, 0.8216775521968244, 0.8216775521968244, 0.8253251701637507, 0.8253251701637507, 0.831065846141734, 0.831065846141734, 0.831065846141734, 0.831065846141734, 0.831065846141734, 0.831065846141734, 0.831065846141734, 0.831065846141734, 0.831065846141734, 0.831065846141734, 0.831065846141734, 0.831065846141734, 0.831065846141734, 0.831065846141734, 0.831065846141734, 0.831065846141734, 0.831065846141734, 0.831065846141734, 0.831065846141734, 0.831065846141734, 0.831065846141734, 0.8335924711599372, 0.8335924711599372]}], \"recall_score_micro\": [{\"categories\": [\"0\", \"1\", \"3\", \"6\", \"8\", \"10\", \"12\", \"14\", \"17\", \"20\", \"21\", \"22\", \"23\", \"24\", \"25\", \"26\", \"27\", \"28\", \"29\", \"30\", \"31\", \"32\", \"33\", \"34\", \"35\", \"36\", \"37\", \"38\", \"39\", \"40\", \"41\", \"42\", \"43\", \"44\", \"45\", \"46\"], \"mode\": \"markers\", \"name\": \"recall_score_micro\", \"stepped\": false, \"type\": \"scatter\", \"data\": [0.5946042623826394, 0.5741124703739302, 0.6745049238530217, 0.5907218034760976, 0.7267492106914999, 0.6889172883307147, 0.6736540245647047, 0.6653551066332719, 0.7556701184331613, 0.666853630231921, 0.6325490434322703, 0.7573439246426149, 0.6645708991253709, 0.7664012478236142, 0.5724088274699491, 0.7586551917249253, 0.5560826948627657, 0.7594257513888785, 0.7610769218216173, 0.4995471987496224, 0.7344940515837142, 0.6823369139335056, 0.7562985254679039, 0.7670167791657895, 0.48415537286339294, 0.6262085647892921, 0.6792794013258143, 0.7631498458541828, 0.7511627574898632, 0.7128589549579083, 0.7259872896999777, 0.747768279576288, 0.6684066790037025, 0.7594493417973649, 0.7879439518496862, 0.6136018173662366]}, {\"categories\": [\"0\", \"1\", \"3\", \"6\", \"8\", \"10\", \"12\", \"14\", \"17\", \"20\", \"21\", \"22\", \"23\", \"24\", \"25\", \"26\", \"27\", \"28\", \"29\", \"30\", \"31\", \"32\", \"33\", \"34\", \"35\", \"36\", \"37\", \"38\", \"39\", \"40\", \"41\", \"42\", \"43\", \"44\", \"45\", \"46\"], \"mode\": \"lines\", \"name\": \"recall_score_micro_max\", \"stepped\": true, \"type\": \"scatter\", \"data\": [0.5946042623826394, 0.5946042623826394, 0.6745049238530217, 0.6745049238530217, 0.7267492106914999, 0.7267492106914999, 0.7267492106914999, 0.7267492106914999, 0.7556701184331613, 0.7556701184331613, 0.7556701184331613, 0.7573439246426149, 0.7573439246426149, 0.7664012478236142, 0.7664012478236142, 0.7664012478236142, 0.7664012478236142, 0.7664012478236142, 0.7664012478236142, 0.7664012478236142, 0.7664012478236142, 0.7664012478236142, 0.7664012478236142, 0.7670167791657895, 0.7670167791657895, 0.7670167791657895, 0.7670167791657895, 0.7670167791657895, 0.7670167791657895, 0.7670167791657895, 0.7670167791657895, 0.7670167791657895, 0.7670167791657895, 0.7670167791657895, 0.7879439518496862, 0.7879439518496862]}], \"average_precision_score_micro\": [{\"categories\": [\"0\", \"1\", \"3\", \"6\", \"8\", \"10\", \"12\", \"14\", \"17\", \"20\", \"21\", \"22\", \"23\", \"24\", \"25\", \"26\", \"27\", \"28\", \"29\", \"30\", \"31\", \"32\", \"33\", \"34\", \"35\", \"36\", \"37\", \"38\", \"39\", \"40\", \"41\", \"42\", \"43\", \"44\", \"45\", \"46\"], \"mode\": \"markers\", \"name\": \"average_precision_score_micro\", \"stepped\": false, \"type\": \"scatter\", \"data\": [0.7145893957513361, 0.7040520239890438, 0.74588023182744, 0.6693735619525758, 0.7964326168714728, 0.7818670374576284, 0.6627780094641467, 0.7456535003677036, 0.8329046139658345, 0.75334670970273, 0.7316151460986291, 0.8383418281807106, 0.7545332735235819, 0.8431764993211627, 0.6441775268813654, 0.833682504274887, 0.6823767600813647, 0.8375448792291351, 0.8356813997570691, 0.5000248566128791, 0.8149528272114639, 0.7681581903048835, 0.8362630420286843, 0.8399108526710014, 0.49232894366976687, 0.7083983199043635, 0.758501230064948, 0.8239771371729847, 0.8353694958544349, 0.7977228374390068, 0.8118211787713232, 0.8383301357900852, 0.7594083937000536, 0.8363296190160566, 0.8391374733762549, 0.7695410524897033]}, {\"categories\": [\"0\", \"1\", \"3\", \"6\", \"8\", \"10\", \"12\", \"14\", \"17\", \"20\", \"21\", \"22\", \"23\", \"24\", \"25\", \"26\", \"27\", \"28\", \"29\", \"30\", \"31\", \"32\", \"33\", \"34\", \"35\", \"36\", \"37\", \"38\", \"39\", \"40\", \"41\", \"42\", \"43\", \"44\", \"45\", \"46\"], \"mode\": \"lines\", \"name\": \"average_precision_score_micro_max\", \"stepped\": true, \"type\": \"scatter\", \"data\": [0.7145893957513361, 0.7145893957513361, 0.74588023182744, 0.74588023182744, 0.7964326168714728, 0.7964326168714728, 0.7964326168714728, 0.7964326168714728, 0.8329046139658345, 0.8329046139658345, 0.8329046139658345, 0.8383418281807106, 0.8383418281807106, 0.8431764993211627, 0.8431764993211627, 0.8431764993211627, 0.8431764993211627, 0.8431764993211627, 0.8431764993211627, 0.8431764993211627, 0.8431764993211627, 0.8431764993211627, 0.8431764993211627, 0.8431764993211627, 0.8431764993211627, 0.8431764993211627, 0.8431764993211627, 0.8431764993211627, 0.8431764993211627, 0.8431764993211627, 0.8431764993211627, 0.8431764993211627, 0.8431764993211627, 0.8431764993211627, 0.8431764993211627, 0.8431764993211627]}]}, \"metricName\": null, \"primaryMetricName\": \"accuracy\", \"showLegend\": false}, \"run_metrics\": [{\"name\": \"experiment_status\", \"run_id\": \"AutoML_e175bf45-5083-47e4-816e-9cdeb563239e\", \"categories\": [0, 1, 2, 3, 4, 5, 6, 7, 8, 9, 10, 11, 12, 13, 14], \"series\": [{\"data\": [\"DatasetEvaluation\", \"FeaturesGeneration\", \"DatasetFeaturization\", \"DatasetFeaturizationCompleted\", \"DatasetBalancing\", \"DatasetCrossValidationSplit\", \"ModelSelection\", \"BestRunExplainModel\", \"ModelExplanationDataSetSetup\", \"PickSurrogateModel\", \"EngineeredFeatureExplanations\", \"EngineeredFeatureExplanations\", \"RawFeaturesExplanations\", \"RawFeaturesExplanations\", \"BestRunExplainModel\"]}]}, {\"name\": \"experiment_status_description\", \"run_id\": \"AutoML_e175bf45-5083-47e4-816e-9cdeb563239e\", \"categories\": [0, 1, 2, 3, 4, 5, 6, 7, 8, 9, 10, 11, 12, 13, 14], \"series\": [{\"data\": [\"Gathering dataset statistics.\", \"Generating features for the dataset.\", \"Beginning to fit featurizers and featurize the dataset.\", \"Completed fit featurizers and featurizing the dataset.\", \"Performing class balancing sweeping\", \"Generating individually featurized CV splits.\", \"Beginning model selection.\", \"Best run model explanations started\", \"Model explanations data setup completed\", \"Choosing LightGBM as the surrogate model for explanations\", \"Computation of engineered features started\", \"Computation of engineered features completed\", \"Computation of raw features started\", \"Computation of raw features completed\", \"Best run model explanations completed\"]}]}, {\"name\": \"average_precision_score_macro\", \"run_id\": \"AutoML_e175bf45-5083-47e4-816e-9cdeb563239e\", \"categories\": [0], \"series\": [{\"data\": [0.8335924711599372]}]}, {\"name\": \"precision_score_weighted\", \"run_id\": \"AutoML_e175bf45-5083-47e4-816e-9cdeb563239e\", \"categories\": [0], \"series\": [{\"data\": [0.7887704922377754]}]}, {\"name\": \"AUC_macro\", \"run_id\": \"AutoML_e175bf45-5083-47e4-816e-9cdeb563239e\", \"categories\": [0], \"series\": [{\"data\": [0.8433999771146986]}]}, {\"name\": \"weighted_accuracy\", \"run_id\": \"AutoML_e175bf45-5083-47e4-816e-9cdeb563239e\", \"categories\": [0], \"series\": [{\"data\": [0.7658624421060931]}]}, {\"name\": \"f1_score_macro\", \"run_id\": \"AutoML_e175bf45-5083-47e4-816e-9cdeb563239e\", \"categories\": [0], \"series\": [{\"data\": [0.7877474200233474]}]}, {\"name\": \"accuracy\", \"run_id\": \"AutoML_e175bf45-5083-47e4-816e-9cdeb563239e\", \"categories\": [0], \"series\": [{\"data\": [0.7879439518496805]}]}, {\"name\": \"f1_score_weighted\", \"run_id\": \"AutoML_e175bf45-5083-47e4-816e-9cdeb563239e\", \"categories\": [0], \"series\": [{\"data\": [0.7878846136565671]}]}, {\"name\": \"matthews_correlation\", \"run_id\": \"AutoML_e175bf45-5083-47e4-816e-9cdeb563239e\", \"categories\": [0], \"series\": [{\"data\": [0.5764402348320458]}]}, {\"name\": \"recall_score_macro\", \"run_id\": \"AutoML_e175bf45-5083-47e4-816e-9cdeb563239e\", \"categories\": [0], \"series\": [{\"data\": [0.7880306866058427]}]}, {\"name\": \"average_precision_score_weighted\", \"run_id\": \"AutoML_e175bf45-5083-47e4-816e-9cdeb563239e\", \"categories\": [0], \"series\": [{\"data\": [0.8337891203489847]}]}, {\"name\": \"average_precision_score_micro\", \"run_id\": \"AutoML_e175bf45-5083-47e4-816e-9cdeb563239e\", \"categories\": [0], \"series\": [{\"data\": [0.8391374733762549]}]}, {\"name\": \"recall_score_micro\", \"run_id\": \"AutoML_e175bf45-5083-47e4-816e-9cdeb563239e\", \"categories\": [0], \"series\": [{\"data\": [0.7879439518496862]}]}, {\"name\": \"precision_score_micro\", \"run_id\": \"AutoML_e175bf45-5083-47e4-816e-9cdeb563239e\", \"categories\": [0], \"series\": [{\"data\": [0.7879439518496862]}]}, {\"name\": \"balanced_accuracy\", \"run_id\": \"AutoML_e175bf45-5083-47e4-816e-9cdeb563239e\", \"categories\": [0], \"series\": [{\"data\": [0.7880306866058427]}]}, {\"name\": \"precision_score_macro\", \"run_id\": \"AutoML_e175bf45-5083-47e4-816e-9cdeb563239e\", \"categories\": [0], \"series\": [{\"data\": [0.7884097992534509]}]}, {\"name\": \"norm_macro_recall\", \"run_id\": \"AutoML_e175bf45-5083-47e4-816e-9cdeb563239e\", \"categories\": [0], \"series\": [{\"data\": [0.576061373211667]}]}, {\"name\": \"f1_score_micro\", \"run_id\": \"AutoML_e175bf45-5083-47e4-816e-9cdeb563239e\", \"categories\": [0], \"series\": [{\"data\": [0.7879439518496862]}]}, {\"name\": \"recall_score_weighted\", \"run_id\": \"AutoML_e175bf45-5083-47e4-816e-9cdeb563239e\", \"categories\": [0], \"series\": [{\"data\": [0.7879439518496862]}]}, {\"name\": \"AUC_micro\", \"run_id\": \"AutoML_e175bf45-5083-47e4-816e-9cdeb563239e\", \"categories\": [0], \"series\": [{\"data\": [0.841470528992134]}]}, {\"name\": \"AUC_weighted\", \"run_id\": \"AutoML_e175bf45-5083-47e4-816e-9cdeb563239e\", \"categories\": [0], \"series\": [{\"data\": [0.8433999771146986]}]}, {\"name\": \"log_loss\", \"run_id\": \"AutoML_e175bf45-5083-47e4-816e-9cdeb563239e\", \"categories\": [0], \"series\": [{\"data\": [0.5562988854684747]}]}], \"run_logs\": \"\\nRun is completed.\", \"graph\": {}, \"widget_settings\": {\"childWidgetDisplay\": \"popup\", \"send_telemetry\": false, \"log_level\": \"INFO\", \"sdk_version\": \"1.41.0\"}, \"loading\": false}"
          },
          "metadata": {}
        },
        {
          "output_type": "display_data",
          "data": {
            "text/plain": "<IPython.core.display.HTML object>",
            "text/html": "<table style=\"width:100%\"><tr><th>Experiment</th><th>Id</th><th>Type</th><th>Status</th><th>Details Page</th><th>Docs Page</th></tr><tr><td>Stroke_prediction</td><td>AutoML_e175bf45-5083-47e4-816e-9cdeb563239e</td><td>automl</td><td>NotStarted</td><td><a href=\"https://ml.azure.com/runs/AutoML_e175bf45-5083-47e4-816e-9cdeb563239e?wsid=/subscriptions/6971f5ac-8af1-446e-8034-05acea24681f/resourcegroups/aml-quickstarts-196660/workspaces/quick-starts-ws-196660&amp;tid=660b3398-b80e-49d2-bc5b-ac1dc93b5254\" target=\"_blank\" rel=\"noopener\">Link to Azure Machine Learning studio</a></td><td><a href=\"https://docs.microsoft.com/en-us/python/api/overview/azure/ml/intro?view=azure-ml-py\" target=\"_blank\" rel=\"noopener\">Link to Documentation</a></td></tr></table>"
          },
          "metadata": {}
        },
        {
          "output_type": "stream",
          "name": "stdout",
          "text": "\nCurrent status: FeaturesGeneration. Generating features for the dataset.\nCurrent status: DatasetFeaturization. Beginning to fit featurizers and featurize the dataset.\nCurrent status: DatasetCrossValidationSplit. Generating individually featurized CV splits.\nCurrent status: ModelSelection. Beginning model selection.\n\n********************************************************************************************\nDATA GUARDRAILS: \n\nTYPE:         Class balancing detection\nSTATUS:       ALERTED\nDESCRIPTION:  To decrease model bias, please cancel the current run and fix balancing problem.\n              Learn more about imbalanced data: https://aka.ms/AutomatedMLImbalancedData\nDETAILS:      Imbalanced data can lead to a falsely perceived positive effect of a model's accuracy because the input data has bias towards one class.\n+------------------------------+--------------------------------+--------------------------------------+\n|Size of the smallest class    |Name/Label of the smallest class|Number of samples in the training data|\n+==============================+================================+======================================+\n|249                           |1                               |5110                                  |\n+------------------------------+--------------------------------+--------------------------------------+\n\n********************************************************************************************\n\nTYPE:         Missing feature values imputation\nSTATUS:       PASSED\nDESCRIPTION:  No feature missing values were detected in the training data.\n              Learn more about missing value imputation: https://aka.ms/AutomatedMLFeaturization\n\n********************************************************************************************\n\nTYPE:         High cardinality feature detection\nSTATUS:       PASSED\nDESCRIPTION:  Your inputs were analyzed, and no high cardinality features were detected.\n              Learn more about high cardinality feature handling: https://aka.ms/AutomatedMLFeaturization\n\n********************************************************************************************\n\n********************************************************************************************\nITER: The iteration being evaluated.\nPIPELINE: A summary description of the pipeline being evaluated.\nDURATION: Time taken for the current iteration.\nMETRIC: The result of computing score on the fitted pipeline.\nBEST: The best observed score thus far.\n********************************************************************************************\n\n ITER   PIPELINE                                       DURATION            METRIC      BEST\n    0   MaxAbsScaler LightGBM                          0:00:12             0.5946    0.5946\n    1   MaxAbsScaler XGBoostClassifier                 0:00:12             0.5741    0.5946\n    2   MaxAbsScaler ExtremeRandomTrees                0:00:12             0.4995    0.5946\n    3   SparseNormalizer XGBoostClassifier             0:00:12             0.6745    0.6745\n    4   MaxAbsScaler LightGBM                          0:00:12             0.7338    0.7338\n    5   MaxAbsScaler LightGBM                          0:00:11             0.7206    0.7338\n    6   StandardScalerWrapper XGBoostClassifier        0:00:13             0.5907    0.7338\n    7   MaxAbsScaler LogisticRegression                0:00:12             0.6977    0.7338\n    8   StandardScalerWrapper ExtremeRandomTrees       0:00:11             0.7267    0.7338\n    9   StandardScalerWrapper XGBoostClassifier        0:00:11             0.6633    0.7338\n   10   SparseNormalizer LightGBM                      0:00:11             0.6889    0.7338\n   11   StandardScalerWrapper XGBoostClassifier        0:00:11             0.6865    0.7338\n   12   MaxAbsScaler LogisticRegression                0:00:12             0.6737    0.7338\n   13   MaxAbsScaler SGD                               0:00:11             0.7364    0.7364\n   14   StandardScalerWrapper XGBoostClassifier        0:00:12             0.6654    0.7364\n   15   SparseNormalizer RandomForest                  0:00:12             0.4995    0.7364\n   16   StandardScalerWrapper LogisticRegression       0:00:11             0.6451    0.7364\n   17   StandardScalerWrapper RandomForest             0:00:12             0.7557    0.7557\n   18   StandardScalerWrapper XGBoostClassifier        0:00:12             0.6351    0.7557\n   19   TruncatedSVDWrapper RandomForest               0:00:26             0.6194    0.7557\n   20   TruncatedSVDWrapper RandomForest               0:00:04             0.6669    0.7557\n   21   StandardScalerWrapper XGBoostClassifier        0:00:04             0.6325    0.7557\n   22   MaxAbsScaler LightGBM                          0:00:04             0.7573    0.7573\n   23   SparseNormalizer LightGBM                      0:00:04             0.6646    0.7573\n   24   StandardScalerWrapper ExtremeRandomTrees       0:00:04             0.7664    0.7664\n   25   StandardScalerWrapper ExtremeRandomTrees       0:00:04             0.5724    0.7664\n   26   StandardScalerWrapper RandomForest             0:00:04             0.7587    0.7664\n   27   SparseNormalizer XGBoostClassifier             0:00:04             0.5561    0.7664\n   28   MaxAbsScaler LightGBM                          0:00:04             0.7594    0.7664\n   29   StandardScalerWrapper LightGBM                 0:00:04             0.7611    0.7664\n   30   SparseNormalizer ExtremeRandomTrees            0:00:04             0.4995    0.7664\n   31   MaxAbsScaler RandomForest                      0:00:04             0.7345    0.7664\n   32   SparseNormalizer LightGBM                      0:00:04             0.6823    0.7664\n   33   MaxAbsScaler RandomForest                      0:00:04             0.7563    0.7664\n   34   MaxAbsScaler ExtremeRandomTrees                0:00:04             0.7670    0.7670\n   35   SparseNormalizer ExtremeRandomTrees            0:00:04             0.4842    0.7670\n   36   SparseNormalizer RandomForest                  0:00:04             0.6262    0.7670\n   37   SparseNormalizer LightGBM                      0:00:04             0.6793    0.7670\n   38   StandardScalerWrapper RandomForest             0:00:04             0.7631    0.7670\n   39   StandardScalerWrapper LightGBM                 0:00:04             0.7512    0.7670\n   40   StandardScalerWrapper ExtremeRandomTrees       0:00:04             0.7129    0.7670\n   41   MaxAbsScaler LightGBM                          0:00:04             0.7260    0.7670\n   42   MaxAbsScaler LightGBM                          0:00:04             0.7478    0.7670\n   43   SparseNormalizer LightGBM                      0:00:04             0.6684    0.7670\n   44   StandardScalerWrapper LightGBM                 0:00:04             0.7594    0.7670\n   45    VotingEnsemble                                0:00:04             0.7879    0.7879\n   46    StackEnsemble                                 0:00:04             0.6136    0.7879\n"
        },
        {
          "output_type": "execute_result",
          "execution_count": 12,
          "data": {
            "text/plain": "{'runId': 'AutoML_e175bf45-5083-47e4-816e-9cdeb563239e',\n 'target': 'Udactiy-Project-Cluster',\n 'status': 'Completed',\n 'startTimeUtc': '2022-05-25T08:11:11.973591Z',\n 'endTimeUtc': '2022-05-25T08:37:02.15817Z',\n 'services': {},\n 'warnings': [{'source': 'JasmineService',\n   'message': 'No scores improved over last 10 iterations, so experiment stopped early. This early stopping behavior can be disabled by setting enable_early_stopping = False in AutoMLConfig for notebook/python SDK runs.'}],\n 'properties': {'num_iterations': '1000',\n  'training_type': 'TrainFull',\n  'acquisition_function': 'EI',\n  'primary_metric': 'accuracy',\n  'train_split': '0',\n  'acquisition_parameter': '0',\n  'num_cross_validation': '2',\n  'target': 'Udactiy-Project-Cluster',\n  'AMLSettingsJsonString': '{\"path\":null,\"name\":\"Stroke_prediction\",\"subscription_id\":\"6971f5ac-8af1-446e-8034-05acea24681f\",\"resource_group\":\"aml-quickstarts-196660\",\"workspace_name\":\"quick-starts-ws-196660\",\"region\":\"southcentralus\",\"compute_target\":\"Udactiy-Project-Cluster\",\"spark_service\":null,\"azure_service\":\"remote\",\"many_models\":false,\"pipeline_fetch_max_batch_size\":1,\"enable_batch_run\":true,\"enable_run_restructure\":false,\"start_auxiliary_runs_before_parent_complete\":false,\"enable_code_generation\":false,\"iterations\":1000,\"primary_metric\":\"accuracy\",\"task_type\":\"classification\",\"positive_label\":null,\"data_script\":null,\"test_size\":0.0,\"test_include_predictions_only\":false,\"validation_size\":0.0,\"n_cross_validations\":2,\"y_min\":null,\"y_max\":null,\"num_classes\":null,\"featurization\":\"auto\",\"_ignore_package_version_incompatibilities\":false,\"is_timeseries\":false,\"max_cores_per_iteration\":1,\"max_concurrent_iterations\":1,\"iteration_timeout_minutes\":null,\"mem_in_mb\":null,\"enforce_time_on_windows\":false,\"experiment_timeout_minutes\":30,\"experiment_exit_score\":null,\"partition_column_names\":null,\"whitelist_models\":null,\"blacklist_algos\":[\"TensorFlowLinearClassifier\",\"TensorFlowDNN\"],\"supported_models\":[\"LinearSVM\",\"TensorFlowLinearClassifier\",\"SGD\",\"SVM\",\"ExtremeRandomTrees\",\"BernoulliNaiveBayes\",\"XGBoostClassifier\",\"MultinomialNaiveBayes\",\"RandomForest\",\"LogisticRegression\",\"LightGBM\",\"KNN\",\"DecisionTree\",\"TensorFlowDNN\",\"TabnetClassifier\",\"GradientBoosting\",\"AveragedPerceptronClassifier\"],\"private_models\":[],\"auto_blacklist\":true,\"blacklist_samples_reached\":false,\"exclude_nan_labels\":true,\"verbosity\":20,\"_debug_log\":\"azureml_automl.log\",\"show_warnings\":false,\"model_explainability\":true,\"service_url\":null,\"sdk_url\":null,\"sdk_packages\":null,\"enable_onnx_compatible_models\":false,\"enable_split_onnx_featurizer_estimator_models\":false,\"vm_type\":\"STANDARD_D2_V2\",\"telemetry_verbosity\":20,\"send_telemetry\":true,\"enable_dnn\":false,\"scenario\":\"SDK-1.13.0\",\"environment_label\":null,\"save_mlflow\":false,\"enable_categorical_indicators\":false,\"force_text_dnn\":false,\"enable_feature_sweeping\":true,\"enable_early_stopping\":true,\"early_stopping_n_iters\":10,\"arguments\":null,\"dataset_id\":\"93eec123-d4d4-4be2-846a-13197de012b4\",\"hyperdrive_config\":null,\"validation_dataset_id\":null,\"run_source\":null,\"metrics\":null,\"enable_metric_confidence\":false,\"enable_ensembling\":true,\"enable_stack_ensembling\":true,\"ensemble_iterations\":15,\"enable_tf\":false,\"enable_subsampling\":null,\"subsample_seed\":null,\"enable_nimbusml\":false,\"enable_streaming\":false,\"force_streaming\":false,\"track_child_runs\":true,\"allowed_private_models\":[],\"label_column_name\":\"stroke\",\"weight_column_name\":null,\"cv_split_column_names\":null,\"enable_local_managed\":false,\"_local_managed_run_id\":null,\"cost_mode\":1,\"lag_length\":0,\"metric_operation\":\"maximize\",\"preprocess\":true}',\n  'DataPrepJsonString': '{\\\\\"training_data\\\\\": {\\\\\"datasetId\\\\\": \\\\\"93eec123-d4d4-4be2-846a-13197de012b4\\\\\"}, \\\\\"datasets\\\\\": 0}',\n  'EnableSubsampling': None,\n  'runTemplate': 'AutoML',\n  'azureml.runsource': 'automl',\n  'display_task_type': 'classification',\n  'dependencies_versions': '{\"azureml-dataprep-native\": \"38.0.0\", \"azureml-dataprep\": \"3.1.1\", \"azureml-dataprep-rslex\": \"2.5.2\", \"azureml-mlflow\": \"1.41.0\", \"azureml-training-tabular\": \"1.41.0\", \"azureml-train-core\": \"1.41.0\", \"azureml-contrib-dataset\": \"1.41.0\", \"azureml-pipeline-steps\": \"1.41.0\", \"azureml-pipeline-core\": \"1.41.0\", \"azureml-pipeline\": \"1.41.0\", \"azureml-cli-common\": \"1.41.0\", \"azureml-explain-model\": \"1.41.0\", \"azureml-automl-dnn-nlp\": \"1.41.0\", \"azureml-opendatasets\": \"1.41.0\", \"azureml-train-restclients-hyperdrive\": \"1.41.0\", \"azureml-dataset-runtime\": \"1.41.0\", \"azureml-tensorboard\": \"1.41.0\", \"azureml-contrib-automl-pipeline-steps\": \"1.41.0\", \"azureml-train-automl-client\": \"1.41.0\", \"azureml-automl-core\": \"1.41.0\", \"azureml-sdk\": \"1.41.0\", \"azureml-contrib-services\": \"1.41.0\", \"azureml-contrib-server\": \"1.41.0\", \"azureml-accel-models\": \"1.41.0\", \"azureml-core\": \"1.41.0\", \"azureml-train-automl-runtime\": \"1.41.0\", \"azureml-contrib-notebook\": \"1.41.0\", \"azureml-train\": \"1.41.0\", \"azureml-interpret\": \"1.41.0\", \"azureml-defaults\": \"1.41.0\", \"azureml-automl-runtime\": \"1.41.0\", \"azureml-datadrift\": \"1.41.0\", \"azureml-contrib-reinforcementlearning\": \"1.41.0\", \"azureml-widgets\": \"1.41.0\", \"azureml-train-automl\": \"1.41.0\", \"azureml-contrib-fairness\": \"1.41.0\", \"azureml-telemetry\": \"1.41.0\", \"azureml-contrib-pipeline-steps\": \"1.41.0\", \"azureml-responsibleai\": \"1.41.0\", \"azureml-inference-server-http\": \"0.4.13\", \"azureml-samples\": \"0+unknown\"}',\n  '_aml_system_scenario_identification': 'Remote.Parent',\n  'ClientType': 'SDK',\n  'environment_cpu_name': 'AzureML-AutoML',\n  'environment_cpu_label': 'prod',\n  'environment_gpu_name': 'AzureML-AutoML-GPU',\n  'environment_gpu_label': 'prod',\n  'root_attribution': 'automl',\n  'attribution': 'AutoML',\n  'Orchestrator': 'AutoML',\n  'CancelUri': 'https://southcentralus.api.azureml.ms/jasmine/v1.0/subscriptions/6971f5ac-8af1-446e-8034-05acea24681f/resourceGroups/aml-quickstarts-196660/providers/Microsoft.MachineLearningServices/workspaces/quick-starts-ws-196660/experimentids/befa3663-07cf-4129-a0e4-cd1cdf39cc72/cancel/AutoML_e175bf45-5083-47e4-816e-9cdeb563239e',\n  'ClientSdkVersion': '1.41.1',\n  'snapshotId': '00000000-0000-0000-0000-000000000000',\n  'SetupRunId': 'AutoML_e175bf45-5083-47e4-816e-9cdeb563239e_setup',\n  'SetupRunContainerId': 'dcid.AutoML_e175bf45-5083-47e4-816e-9cdeb563239e_setup',\n  'FeaturizationRunJsonPath': 'featurizer_container.json',\n  'FeaturizationRunId': 'AutoML_e175bf45-5083-47e4-816e-9cdeb563239e_featurize',\n  'ProblemInfoJsonString': '{\"dataset_num_categorical\": 0, \"is_sparse\": true, \"subsampling\": false, \"has_extra_col\": true, \"dataset_classes\": 2, \"dataset_features\": 275, \"dataset_samples\": 5110, \"single_frequency_class_detected\": false}',\n  'ModelExplainRunId': 'AutoML_e175bf45-5083-47e4-816e-9cdeb563239e_ModelExplain'},\n 'inputDatasets': [{'dataset': {'id': '93eec123-d4d4-4be2-846a-13197de012b4'}, 'consumptionDetails': {'type': 'RunInput', 'inputName': 'training_data', 'mechanism': 'Direct'}}],\n 'outputDatasets': [],\n 'logFiles': {},\n 'submittedBy': 'ODL_User 196660'}"
          },
          "metadata": {}
        }
      ],
      "execution_count": 12,
      "metadata": {
        "gather": {
          "logged": 1653467840071
        },
        "jupyter": {
          "outputs_hidden": false,
          "source_hidden": false
        },
        "nteract": {
          "transient": {
            "deleting": false
          }
        }
      }
    },
    {
      "cell_type": "markdown",
      "source": [
        "## Best Model\n",
        "TODO: In the cell below, get the best model from the automl experiments and display all the properties of the model."
      ],
      "metadata": {}
    },
    {
      "cell_type": "code",
      "source": [
        "# Get best run and model\n",
        "best_run, fitted_model = remote_run.get_output()\n",
        "\n",
        "# Print the best run\n",
        "print(best_run)\n",
        "\n",
        "# Get all metrics of the best run\n",
        "best_run_metrics = best_run.get_metrics()\n",
        "\n",
        "# Print all metrics of the best run\n",
        "for metric_name in best_run_metrics:\n",
        "    metric = best_run_metrics[metric_name]\n",
        "    print(metric_name, metric)"
      ],
      "outputs": [
        {
          "output_type": "stream",
          "name": "stdout",
          "text": "Run(Experiment: Stroke_prediction,\nId: AutoML_e175bf45-5083-47e4-816e-9cdeb563239e_45,\nType: azureml.scriptrun,\nStatus: Completed)\nf1_score_micro 0.7879439518496862\nlog_loss 0.5562988854684747\nAUC_weighted 0.8433999771146986\nrecall_score_weighted 0.7879439518496862\nbalanced_accuracy 0.7880306866058427\nprecision_score_macro 0.7884097992534509\nf1_score_weighted 0.7878846136565671\naverage_precision_score_weighted 0.8337891203489847\nAUC_micro 0.841470528992134\nnorm_macro_recall 0.576061373211667\nprecision_score_micro 0.7879439518496862\naverage_precision_score_micro 0.8391374733762549\nrecall_score_micro 0.7879439518496862\nweighted_accuracy 0.7658624421060931\naccuracy 0.7879439518496805\nAUC_macro 0.8433999771146986\nrecall_score_macro 0.7880306866058427\nf1_score_macro 0.7877474200233474\nprecision_score_weighted 0.7887704922377754\nmatthews_correlation 0.5764402348320458\naverage_precision_score_macro 0.8335924711599372\nconfusion_matrix aml://artifactId/ExperimentRun/dcid.AutoML_e175bf45-5083-47e4-816e-9cdeb563239e_45/confusion_matrix\naccuracy_table aml://artifactId/ExperimentRun/dcid.AutoML_e175bf45-5083-47e4-816e-9cdeb563239e_45/accuracy_table\n"
        }
      ],
      "execution_count": 13,
      "metadata": {
        "gather": {
          "logged": 1653467857096
        },
        "jupyter": {
          "outputs_hidden": false,
          "source_hidden": false
        },
        "nteract": {
          "transient": {
            "deleting": false
          }
        }
      }
    },
    {
      "cell_type": "code",
      "source": [
        "# Print detailed parameters of the fitted model\n",
        "def print_model(model, prefix=\"\"):\n",
        "    for step in model.steps:\n",
        "        print(prefix + step[0])\n",
        "        if hasattr(step[1], 'estimators') and hasattr(step[1], 'weights'):\n",
        "            print({'estimators': list(\n",
        "                e[0] for e in step[1].estimators), 'weights': step[1].weights})\n",
        "            print()\n",
        "            for estimator in step[1].estimators:\n",
        "                print_model(estimator[1], estimator[0] + ' - ')\n",
        "        else:\n",
        "            print(step[1].get_params())\n",
        "            print()\n",
        "\n",
        "print_model(fitted_model)\n"
      ],
      "outputs": [
        {
          "output_type": "stream",
          "name": "stdout",
          "text": "datatransformer\n{'task': 'classification', 'is_onnx_compatible': False, 'enable_feature_sweeping': True, 'enable_dnn': False, 'force_text_dnn': False, 'feature_sweeping_timeout': 86400, 'featurization_config': None, 'is_cross_validation': True, 'feature_sweeping_config': {}, 'observer': None, 'working_dir': '/mnt/batch/tasks/shared/LS_root/mounts/clusters/notebook196660/code/Users/odl_user_196660'}\n\nprefittedsoftvotingclassifier\n{'estimators': ['34', '24', '38', '29', '44', '17', '8', '7', '37', '3', '43', '9'], 'weights': [0.07142857142857142, 0.07142857142857142, 0.07142857142857142, 0.07142857142857142, 0.07142857142857142, 0.07142857142857142, 0.07142857142857142, 0.07142857142857142, 0.07142857142857142, 0.21428571428571427, 0.07142857142857142, 0.07142857142857142]}\n\n34 - maxabsscaler\n{'copy': True}\n\n34 - extratreesclassifier\n{'bootstrap': True, 'ccp_alpha': 0.0, 'class_weight': None, 'criterion': 'gini', 'max_depth': None, 'max_features': 0.5, 'max_leaf_nodes': None, 'max_samples': None, 'min_impurity_decrease': 0.0, 'min_samples_leaf': 0.01, 'min_samples_split': 0.2442105263157895, 'min_weight_fraction_leaf': 0.0, 'n_estimators': 10, 'n_jobs': 1, 'oob_score': False, 'random_state': None, 'verbose': 0, 'warm_start': False}\n\n24 - standardscalerwrapper\n{'module_name': 'sklearn.preprocessing._data', 'class_name': 'StandardScaler', 'copy': True, 'with_mean': False, 'with_std': False}\n\n24 - extratreesclassifier\n{'bootstrap': True, 'ccp_alpha': 0.0, 'class_weight': None, 'criterion': 'entropy', 'max_depth': None, 'max_features': None, 'max_leaf_nodes': None, 'max_samples': None, 'min_impurity_decrease': 0.0, 'min_samples_leaf': 0.035789473684210524, 'min_samples_split': 0.15052631578947367, 'min_weight_fraction_leaf': 0.0, 'n_estimators': 200, 'n_jobs': 1, 'oob_score': False, 'random_state': None, 'verbose': 0, 'warm_start': False}\n\n38 - standardscalerwrapper\n{'module_name': 'sklearn.preprocessing._data', 'class_name': 'StandardScaler', 'copy': True, 'with_mean': False, 'with_std': False}\n\n38 - randomforestclassifier\n{'bootstrap': True, 'ccp_alpha': 0.0, 'class_weight': None, 'criterion': 'gini', 'max_depth': None, 'max_features': 0.4, 'max_leaf_nodes': None, 'max_samples': None, 'min_impurity_decrease': 0.0, 'min_samples_leaf': 0.06157894736842105, 'min_samples_split': 0.056842105263157895, 'min_weight_fraction_leaf': 0.0, 'n_estimators': 10, 'n_jobs': 1, 'oob_score': False, 'random_state': None, 'verbose': 0, 'warm_start': False}\n\n29 - standardscalerwrapper\n{'module_name': 'sklearn.preprocessing._data', 'class_name': 'StandardScaler', 'copy': True, 'with_mean': False, 'with_std': False}\n\n29 - lightgbmclassifier\n{'boosting_type': 'goss', 'colsample_bytree': 0.5944444444444444, 'learning_rate': 0.0842121052631579, 'max_bin': 350, 'max_depth': 6, 'min_child_weight': 0, 'min_data_in_leaf': 0.04828103448275863, 'min_split_gain': 0.42105263157894735, 'n_estimators': 10, 'num_leaves': 44, 'reg_alpha': 0.7894736842105263, 'reg_lambda': 0.7894736842105263, 'subsample': 1, 'random_state': None, 'n_jobs': 1, 'problem_info': ProblemInfo(gpu_training_param_dict={'processing_unit_type': 'cpu'})}\n\n44 - standardscalerwrapper\n{'module_name': 'sklearn.preprocessing._data', 'class_name': 'StandardScaler', 'copy': True, 'with_mean': False, 'with_std': True}\n\n44 - lightgbmclassifier\n{'boosting_type': 'goss', 'colsample_bytree': 0.4955555555555555, 'learning_rate': 0.03158578947368421, 'max_bin': 160, 'max_depth': 10, 'min_child_weight': 2, 'min_data_in_leaf': 0.09655206896551725, 'min_split_gain': 0.10526315789473684, 'n_estimators': 50, 'num_leaves': 149, 'reg_alpha': 0.10526315789473684, 'reg_lambda': 0.21052631578947367, 'subsample': 1, 'random_state': None, 'n_jobs': 1, 'problem_info': ProblemInfo(gpu_training_param_dict={'processing_unit_type': 'cpu'})}\n\n17 - standardscalerwrapper\n{'module_name': 'sklearn.preprocessing._data', 'class_name': 'StandardScaler', 'copy': True, 'with_mean': False, 'with_std': False}\n\n17 - randomforestclassifier\n{'bootstrap': False, 'ccp_alpha': 0.0, 'class_weight': None, 'criterion': 'entropy', 'max_depth': None, 'max_features': 0.1, 'max_leaf_nodes': None, 'max_samples': None, 'min_impurity_decrease': 0.0, 'min_samples_leaf': 0.01, 'min_samples_split': 0.01, 'min_weight_fraction_leaf': 0.0, 'n_estimators': 50, 'n_jobs': 1, 'oob_score': False, 'random_state': None, 'verbose': 0, 'warm_start': False}\n\n8 - standardscalerwrapper\n{'module_name': 'sklearn.preprocessing._data', 'class_name': 'StandardScaler', 'copy': True, 'with_mean': False, 'with_std': False}\n\n8 - extratreesclassifier\n{'bootstrap': False, 'ccp_alpha': 0.0, 'class_weight': None, 'criterion': 'entropy', 'max_depth': None, 'max_features': 0.05, 'max_leaf_nodes': None, 'max_samples': None, 'min_impurity_decrease': 0.0, 'min_samples_leaf': 0.01, 'min_samples_split': 0.01, 'min_weight_fraction_leaf': 0.0, 'n_estimators': 25, 'n_jobs': 1, 'oob_score': False, 'random_state': None, 'verbose': 0, 'warm_start': False}\n\n7 - maxabsscaler\n{'copy': True}\n\n7 - logisticregression\n{'C': 1.7575106248547894, 'class_weight': None, 'dual': False, 'fit_intercept': True, 'intercept_scaling': 1, 'l1_ratio': None, 'max_iter': 100, 'multi_class': 'multinomial', 'n_jobs': 1, 'penalty': 'l2', 'random_state': None, 'solver': 'lbfgs', 'tol': 0.0001, 'verbose': 0, 'warm_start': False}\n\n37 - sparsenormalizer\n{'norm': 'l2', 'copy': True}\n\n37 - lightgbmclassifier\n{'boosting_type': 'goss', 'colsample_bytree': 0.4955555555555555, 'learning_rate': 0.010535263157894737, 'max_bin': 30, 'max_depth': 8, 'min_child_weight': 1, 'min_data_in_leaf': 0.044833103448275874, 'min_split_gain': 0.42105263157894735, 'n_estimators': 50, 'num_leaves': 119, 'reg_alpha': 0.9473684210526315, 'reg_lambda': 0.47368421052631576, 'subsample': 1, 'random_state': None, 'n_jobs': 1, 'problem_info': ProblemInfo(gpu_training_param_dict={'processing_unit_type': 'cpu'})}\n\n3 - sparsenormalizer\n{'norm': 'l2', 'copy': True}\n\n3 - xgboostclassifier\n{'objective': 'reg:logistic', 'use_label_encoder': True, 'base_score': 0.5, 'booster': 'gbtree', 'colsample_bylevel': 1, 'colsample_bynode': 1, 'colsample_bytree': 0.7, 'gamma': 0.01, 'gpu_id': -1, 'importance_type': 'gain', 'interaction_constraints': '', 'learning_rate': 0.00999999978, 'max_delta_step': 0, 'max_depth': 7, 'min_child_weight': 1, 'missing': nan, 'monotone_constraints': '()', 'n_estimators': 10, 'n_jobs': 1, 'num_parallel_tree': 1, 'random_state': 0, 'reg_alpha': 2.1875, 'reg_lambda': 1.0416666666666667, 'scale_pos_weight': 1, 'subsample': 1, 'tree_method': 'auto', 'validate_parameters': 1, 'verbosity': 0, 'eta': 0.01, 'max_leaves': 31, 'verbose': -10}\n\n43 - sparsenormalizer\n{'norm': 'l2', 'copy': True}\n\n43 - lightgbmclassifier\n{'boosting_type': 'goss', 'colsample_bytree': 0.99, 'learning_rate': 0.06316157894736842, 'max_bin': 370, 'max_depth': 6, 'min_child_weight': 4, 'min_data_in_leaf': 0.062072758620689665, 'min_split_gain': 0.42105263157894735, 'n_estimators': 25, 'num_leaves': 104, 'reg_alpha': 0.21052631578947367, 'reg_lambda': 0.5789473684210527, 'subsample': 1, 'random_state': None, 'n_jobs': 1, 'problem_info': ProblemInfo(gpu_training_param_dict={'processing_unit_type': 'cpu'})}\n\n9 - standardscalerwrapper\n{'module_name': 'sklearn.preprocessing._data', 'class_name': 'StandardScaler', 'copy': True, 'with_mean': False, 'with_std': False}\n\n9 - xgboostclassifier\n{'objective': 'reg:logistic', 'use_label_encoder': True, 'base_score': 0.5, 'booster': 'gbtree', 'colsample_bylevel': 1, 'colsample_bynode': 1, 'colsample_bytree': 0.5, 'gamma': 0, 'gpu_id': -1, 'importance_type': 'gain', 'interaction_constraints': '', 'learning_rate': 0.5, 'max_delta_step': 0, 'max_depth': 6, 'min_child_weight': 1, 'missing': nan, 'monotone_constraints': '()', 'n_estimators': 10, 'n_jobs': 1, 'num_parallel_tree': 1, 'random_state': 0, 'reg_alpha': 0.7291666666666667, 'reg_lambda': 2.3958333333333335, 'scale_pos_weight': 1, 'subsample': 0.8, 'tree_method': 'auto', 'validate_parameters': 1, 'verbosity': 0, 'eta': 0.5, 'max_leaves': 3, 'verbose': -10}\n\n"
        }
      ],
      "execution_count": 14,
      "metadata": {
        "collapsed": false,
        "pycharm": {
          "name": "#%%\n"
        },
        "gather": {
          "logged": 1653467953297
        }
      }
    },
    {
      "cell_type": "code",
      "source": [
        "#TODO: Save the best model\n",
        "myModel = best_run.register_model(model_path='outputs/model.pkl', model_name='capstoneModel_automl',\n",
        "                        tags={'Training context':'Auto ML'},\n",
        "                        properties={'Accuracy': best_run_metrics['accuracy']})\n",
        "\n",
        "print(myModel)\n",
        "\n"
      ],
      "outputs": [
        {
          "output_type": "stream",
          "name": "stdout",
          "text": "Model(workspace=Workspace.create(name='quick-starts-ws-196660', subscription_id='6971f5ac-8af1-446e-8034-05acea24681f', resource_group='aml-quickstarts-196660'), name=capstoneModel_automl, id=capstoneModel_automl:1, version=1, tags={'Training context': 'Auto ML'}, properties={'Accuracy': '0.7879439518496805'})\n"
        }
      ],
      "execution_count": 17,
      "metadata": {
        "gather": {
          "logged": 1653468143152
        },
        "jupyter": {
          "outputs_hidden": false,
          "source_hidden": false
        },
        "nteract": {
          "transient": {
            "deleting": false
          }
        }
      }
    },
    {
      "cell_type": "code",
      "source": [
        "# List registered models to verify if model has been saved\n",
        "for model in Model.list(ws):\n",
        "    print(model.name, 'version:', model.version)\n",
        "    for tag_name in model.tags:\n",
        "        tag = model.tags[tag_name]\n",
        "        print ('\\t',tag_name, ':', tag)\n",
        "    for prop_name in model.properties:\n",
        "        prop = model.properties[prop_name]\n",
        "        print ('\\t',prop_name, ':', prop)\n",
        "    print('\\n')\n"
      ],
      "outputs": [
        {
          "output_type": "stream",
          "name": "stdout",
          "text": "capstoneModel_automl version: 1\n\t Training context : Auto ML\n\t Accuracy : 0.7879439518496805\n\n\n"
        }
      ],
      "execution_count": 18,
      "metadata": {
        "collapsed": false,
        "pycharm": {
          "name": "#%%\n"
        },
        "gather": {
          "logged": 1653468145792
        }
      }
    },
    {
      "cell_type": "markdown",
      "source": [
        "## Model Deployment\n",
        "\n",
        "Remember you have to deploy only one of the two models you trained but you still need to register both the models. Perform the steps in the rest of this notebook only if you wish to deploy this model.\n",
        "\n",
        "TODO: In the cell below, register the model, create an inference config and deploy the model as a web service."
      ],
      "metadata": {}
    },
    {
      "cell_type": "code",
      "source": [
        "# Download scoring file\n",
        "best_run.download_file('outputs/scoring_file_v_1_0_0.py', 'scoreScript.py')\n",
        "\n",
        "# Download environment file\n",
        "best_run.download_file('outputs/conda_env_v_1_0_0.yml', 'envFile.yml')\n",
        "\n",
        "\n",
        "inference_config = InferenceConfig(entry_script='scoreScript.py',\n",
        "                                    environment=best_run.get_environment())\n",
        "\n",
        "# deploy\n",
        "deployment_config = AciWebservice.deploy_configuration(cpu_cores = 1, memory_gb = 1)\n",
        "service = Model.deploy(ws, \"myservice\", [myModel], inference_config, deployment_config)\n",
        "service.wait_for_deployment(show_output = True)\n",
        "print(service.state)\n",
        "\n",
        "print(service.scoring_uri)\n",
        "\n",
        "print(service.swagger_uri)"
      ],
      "outputs": [
        {
          "output_type": "stream",
          "name": "stdout",
          "text": "Tips: You can try get_logs(): https://aka.ms/debugimage#dockerlog or local deployment: https://aka.ms/debugimage#debug-locally to debug if deployment takes longer than 10 minutes.\nRunning\n2022-05-25 11:59:25+00:00 Creating Container Registry if not exists.\n2022-05-25 11:59:25+00:00 Registering the environment.\n2022-05-25 11:59:26+00:00 Use the existing image.\n2022-05-25 11:59:27+00:00 Submitting deployment to compute.\n2022-05-25 11:59:29+00:00 Checking the status of deployment myservice..\n2022-05-25 12:01:46+00:00 Checking the status of inference endpoint myservice.\nSucceeded\nACI service creation operation finished, operation \"Succeeded\"\nHealthy\nhttp://671ef973-9953-4a3b-939f-a4a05b9c74c2.southcentralus.azurecontainer.io/score\nhttp://671ef973-9953-4a3b-939f-a4a05b9c74c2.southcentralus.azurecontainer.io/swagger.json\n"
        }
      ],
      "execution_count": 25,
      "metadata": {
        "gather": {
          "logged": 1653480112721
        },
        "jupyter": {
          "outputs_hidden": false,
          "source_hidden": false
        },
        "nteract": {
          "transient": {
            "deleting": false
          }
        }
      }
    },
    {
      "cell_type": "markdown",
      "source": [
        "TODO: In the cell below, send a request to the web service you deployed to test it."
      ],
      "metadata": {
        "collapsed": true,
        "gather": {
          "logged": 1598431657736
        },
        "jupyter": {
          "outputs_hidden": false,
          "source_hidden": false
        },
        "nteract": {
          "transient": {
            "deleting": false
          }
        }
      }
    },
    {
      "cell_type": "code",
      "source": [
        "#Import test data\n",
        "test_df = df.sample(5) # data is the pandas dataframe of the original data\n",
        "label_df = test_df.pop('stroke')\n",
        "\n",
        "test_sample = json.dumps({'data': test_df.to_dict(orient='records')})\n",
        "\n",
        "print(test_sample)\n",
        "\n",
        "\n",
        "# Set the content type\n",
        "headers = {'Content-type': 'application/json'}\n",
        "\n",
        "\n",
        "response = requests.post(service.scoring_uri, test_sample, headers=headers)\n",
        "\n",
        "# Print results from the inference\n",
        "print(response.text)"
      ],
      "outputs": [
        {
          "output_type": "stream",
          "name": "stdout",
          "text": "{\"data\": [{\"id\": 68794, \"gender\": \"Female\", \"age\": 79.0, \"hypertension\": 0, \"heart_disease\": 0, \"ever_married\": true, \"work_type\": \"Self-employed\", \"Residence_type\": \"Urban\", \"avg_glucose_level\": 228.7, \"bmi\": \"26.6\", \"smoking_status\": \"never smoked\"}, {\"id\": 62019, \"gender\": \"Male\", \"age\": 54.0, \"hypertension\": 0, \"heart_disease\": 0, \"ever_married\": true, \"work_type\": \"Govt_job\", \"Residence_type\": \"Rural\", \"avg_glucose_level\": 87.85, \"bmi\": \"31.1\", \"smoking_status\": \"smokes\"}, {\"id\": 63804, \"gender\": \"Female\", \"age\": 27.0, \"hypertension\": 0, \"heart_disease\": 0, \"ever_married\": false, \"work_type\": \"Private\", \"Residence_type\": \"Rural\", \"avg_glucose_level\": 55.93, \"bmi\": \"20.3\", \"smoking_status\": \"smokes\"}, {\"id\": 25676, \"gender\": \"Female\", \"age\": 7.0, \"hypertension\": 0, \"heart_disease\": 0, \"ever_married\": false, \"work_type\": \"children\", \"Residence_type\": \"Rural\", \"avg_glucose_level\": 89.38, \"bmi\": \"19\", \"smoking_status\": \"Unknown\"}, {\"id\": 28265, \"gender\": \"Female\", \"age\": 42.0, \"hypertension\": 0, \"heart_disease\": 0, \"ever_married\": true, \"work_type\": \"Self-employed\", \"Residence_type\": \"Rural\", \"avg_glucose_level\": 79.14, \"bmi\": \"25\", \"smoking_status\": \"formerly smoked\"}]}\n\"{\\\"result\\\": [1, 0, 0, 0, 0]}\"\n"
        }
      ],
      "execution_count": 22,
      "metadata": {
        "gather": {
          "logged": 1653469028691
        },
        "jupyter": {
          "outputs_hidden": false,
          "source_hidden": false
        },
        "nteract": {
          "transient": {
            "deleting": false
          }
        }
      }
    },
    {
      "cell_type": "markdown",
      "source": [
        "TODO: In the cell below, print the logs of the web service and delete the service"
      ],
      "metadata": {
        "collapsed": true,
        "gather": {
          "logged": 1598432765711
        },
        "jupyter": {
          "outputs_hidden": false,
          "source_hidden": false
        },
        "nteract": {
          "transient": {
            "deleting": false
          }
        }
      }
    },
    {
      "cell_type": "code",
      "source": [
        "print(service.get_logs())"
      ],
      "outputs": [
        {
          "output_type": "stream",
          "name": "stdout",
          "text": "2022-05-25T08:55:18,339418200+00:00 - iot-server/run \n2022-05-25T08:55:18,343561800+00:00 - gunicorn/run \n2022-05-25T08:55:18,383469400+00:00 - rsyslog/run \n2022-05-25T08:55:18,366945900+00:00 | gunicorn/run | \n2022-05-25T08:55:18,412249000+00:00 | gunicorn/run | ###############################################\n2022-05-25T08:55:18,415461700+00:00 - nginx/run \n2022-05-25T08:55:18,435710300+00:00 | gunicorn/run | AzureML Container Runtime Information\n2022-05-25T08:55:18,472516600+00:00 | gunicorn/run | ###############################################\n2022-05-25T08:55:18,473813300+00:00 | gunicorn/run | \n2022-05-25T08:55:18,485711100+00:00 | gunicorn/run | \n2022-05-25T08:55:18,597795400+00:00 | gunicorn/run | AzureML image information: openmpi3.1.2-ubuntu18.04:20220516.v1\n2022-05-25T08:55:18,621958700+00:00 | gunicorn/run | \n2022-05-25T08:55:18,650301500+00:00 | gunicorn/run | \n2022-05-25T08:55:18,671155500+00:00 | gunicorn/run | PATH environment variable: /azureml-envs/azureml_78c80f660ea080f0c8b2e7ecd5bbaa2b/bin:/opt/miniconda/bin:/usr/local/sbin:/usr/local/bin:/usr/sbin:/usr/bin:/sbin:/bin\n2022-05-25T08:55:18,678188700+00:00 | gunicorn/run | PYTHONPATH environment variable: \n2022-05-25T08:55:18,685103600+00:00 | gunicorn/run | \n2022-05-25T08:55:18,689945700+00:00 | gunicorn/run | Pip Dependencies (before dynamic installation)\n\nEdgeHubConnectionString and IOTEDGE_IOTHUBHOSTNAME are not set. Exiting...\n2022-05-25T08:55:18,943177500+00:00 - iot-server/finish 1 0\n2022-05-25T08:55:18,945213200+00:00 - Exit code 1 is normal. Not restarting iot-server.\nadal==1.2.7\napplicationinsights==0.11.10\nargcomplete==2.0.0\narviz @ file:///tmp/build/80754af9/arviz_1614019183254/work\nattrs==21.4.0\nazure-common==1.1.28\nazure-core==1.22.1\nazure-graphrbac==0.61.1\nazure-identity==1.7.0\nazure-mgmt-authorization==2.0.0\nazure-mgmt-containerregistry==9.1.0\nazure-mgmt-core==1.3.0\nazure-mgmt-keyvault==9.3.0\nazure-mgmt-resource==20.1.0\nazure-mgmt-storage==19.1.0\nazure-storage-queue==12.3.0\nazureml-automl-core==1.41.1.post1\nazureml-automl-runtime==1.41.1\nazureml-core==1.41.0.post3\nazureml-dataprep==3.1.3\nazureml-dataprep-native==38.0.0\nazureml-dataprep-rslex==2.5.4\nazureml-dataset-runtime==1.41.0\nazureml-defaults==1.41.0\nazureml-inference-server-http==0.4.13\nazureml-interpret==1.41.0\nazureml-mlflow==1.41.0\nazureml-pipeline-core==1.41.0\nazureml-responsibleai==1.41.0\nazureml-telemetry==1.41.0\nazureml-train-automl-client==1.41.0\nazureml-train-automl-runtime==1.41.1\nazureml-train-core==1.41.0\nazureml-train-restclients-hyperdrive==1.41.0\nazureml-training-tabular==1.41.1\nbackcall==0.2.0\nbackports.tempfile==1.0\nbackports.weakref==1.0.post1\nbcrypt==3.2.2\nbokeh==2.4.2\nboto==2.49.0\nboto3==1.15.18\nbotocore==1.18.18\ncached-property==1.5.2\ncachetools==5.1.0\ncertifi==2021.10.8\ncffi==1.15.0\ncftime @ file:///tmp/build/80754af9/cftime_1638345281172/work\ncharset-normalizer==2.0.12\nclick==7.1.2\ncloudpickle==1.6.0\nconfigparser==3.7.4\ncontextlib2==21.6.0\nconvertdate @ file:///tmp/build/80754af9/convertdate_1634070773133/work\ncryptography==36.0.2\ncycler @ file:///tmp/build/80754af9/cycler_1637851556182/work\nCython @ file:///tmp/build/80754af9/cython_1647850341668/work\ndask==2.30.0\ndatabricks-cli==0.16.6\ndataclasses==0.6\ndecorator==5.1.1\ndice-ml==0.7.2\ndill==0.3.4\ndistributed==2.30.1\ndistro==1.7.0\ndocker==5.0.3\ndotnetcore2==2.1.23\ndowhy==0.7.1\neconml==0.12.0\nentrypoints==0.4\nephem @ file:///tmp/build/80754af9/ephem_1638960312619/work\nerroranalysis==0.3.2\nfairlearn==0.7.0\nfbprophet @ file:///home/conda/feedstock_root/build_artifacts/fbprophet_1599365534439/work\nfire==0.4.0\nFlask==1.0.3\nflatbuffers==2.0\nfonttools==4.25.0\nfsspec==2022.3.0\ngensim==3.8.3\ngitdb==4.0.9\nGitPython==3.1.27\ngoogle-api-core==2.7.3\ngoogle-auth==2.6.6\ngoogleapis-common-protos==1.56.1\ngunicorn==20.1.0\nh5py==3.6.0\nHeapDict==1.0.1\nholidays @ file:///home/conda/feedstock_root/build_artifacts/holidays_1595448845196/work\nhumanfriendly==10.0\nidna==3.3\nimportlib-metadata==4.11.3\nimportlib-resources==5.7.1\ninference-schema==1.4.1\ninterpret-community==0.25.0\ninterpret-core==0.2.7\nipykernel==5.5.6\nipython==7.33.0\nipython-genutils==0.2.0\nisodate==0.6.1\nitsdangerous==1.1.0\njedi==0.18.1\njeepney==0.8.0\nJinja2==2.11.2\njmespath==0.10.0\njoblib==0.14.1\njson-logging-py==0.2\njsonpickle==2.2.0\njsonschema==4.5.1\njupyter-client==7.3.1\njupyter-core==4.10.0\nkeras2onnx==1.6.0\nkiwisolver @ file:///opt/conda/conda-bld/kiwisolver_1638569886207/work\nknack==0.9.0\nkorean-lunar-calendar @ file:///tmp/build/80754af9/korean_lunar_calendar_1634063020401/work\nlightgbm==3.2.1\nllvmlite==0.36.0\nlocket==1.0.0\nLunarCalendar @ file:///tmp/build/80754af9/lunarcalendar_1646383991234/work\nMarkupSafe==2.0.1\nmatplotlib @ file:///tmp/build/80754af9/matplotlib-suite_1634667019719/work\nmatplotlib-inline==0.1.3\nmkl-fft==1.3.0\nmkl-random==1.1.0\nmkl-service==2.3.0\nml-wrappers==0.1.0\nmlflow-skinny==1.26.0\nmpi4py==3.1.3\nmpmath==1.2.1\nmsal==1.17.0\nmsal-extensions==0.3.1\nmsgpack==1.0.3\nmsrest==0.6.21\nmsrestazure==0.6.4\nmunkres==1.1.4\nndg-httpsclient==0.5.1\nnest-asyncio==1.5.5\nnetCDF4==1.5.7\nnetworkx==2.5\nnimbusml==1.8.0\nnumba==0.53.1\nnumpy==1.18.5\noauthlib==3.2.0\nonnx==1.7.0\nonnxconverter-common==1.6.0\nonnxmltools==1.4.1\nonnxruntime==1.8.1\nopencensus==0.9.0\nopencensus-context==0.1.2\nopencensus-ext-azure==1.1.4\npackaging @ file:///tmp/build/80754af9/packaging_1637314298585/work\npandas==1.1.5\nparamiko==2.11.0\nparso==0.8.3\npartd==1.2.0\npathspec==0.9.0\npatsy==0.5.2\npexpect==4.8.0\npickleshare==0.7.5\nPillow==9.0.1\npkginfo==1.8.2\npmdarima==1.7.1\nportalocker==2.4.0\nprompt-toolkit==3.0.29\nprotobuf==3.20.1\npsutil @ file:///tmp/build/80754af9/psutil_1612298016854/work\nptyprocess==0.7.0\npy-cpuinfo==5.0.0\npyarrow==3.0.0\npyasn1==0.4.8\npyasn1-modules==0.2.8\npycparser==2.21\npydot==1.4.2\nPygments==2.12.0\nPyJWT==2.4.0\nPyMeeus @ file:///tmp/build/80754af9/pymeeus_1634069098549/work\nPyNaCl==1.5.0\npyOpenSSL==22.0.0\npyparsing @ file:///tmp/build/80754af9/pyparsing_1635766073266/work\npyrsistent==0.18.1\nPySocks==1.7.1\npystan @ file:///tmp/build/80754af9/pystan_1613565226242/work\npython-dateutil @ file:///tmp/build/80754af9/python-dateutil_1626374649649/work\npytz==2021.3\nPyYAML==6.0\npyzmq==22.3.0\nrequests==2.27.1\nrequests-oauthlib==1.3.1\nresponsibleai==0.17.0\nrsa==4.8\ns3transfer==0.3.7\nscikit-learn==0.22.1\nscipy==1.5.2\nSecretStorage==3.3.2\nsemver==2.13.0\nsetuptools-git==1.2\nshap==0.39.0\nsix @ file:///tmp/build/80754af9/six_1644875935023/work\nskl2onnx==1.4.9\nsklearn-pandas==1.7.0\nslicer==0.0.7\nsmart-open==1.9.0\nsmmap==5.0.0\nsortedcontainers==2.4.0\nsparse==0.13.0\nstatsmodels==0.11.1\nsympy==1.10.1\ntabulate==0.8.9\ntblib==1.7.0\ntermcolor==1.1.0\ntoolz==0.11.2\ntornado @ file:///tmp/build/80754af9/tornado_1606942283357/work\ntqdm @ file:///opt/conda/conda-bld/tqdm_1650891076910/work\ntraitlets==5.2.1.post0\ntyping-extensions @ file:///opt/conda/conda-bld/typing_extensions_1647553014482/work\nurllib3==1.26.7\nwcwidth==0.2.5\nwebsocket-client==1.3.2\nWerkzeug==1.0.1\nwrapt==1.12.1\nxarray @ file:///opt/conda/conda-bld/xarray_1639166117697/work\nxgboost==1.3.3\nzict==2.2.0\nzipp==3.8.0\n\n2022-05-25T08:55:20,064392200+00:00 | gunicorn/run | \n2022-05-25T08:55:20,065768200+00:00 | gunicorn/run | ###############################################\n2022-05-25T08:55:20,067123200+00:00 | gunicorn/run | AzureML Inference Server\n2022-05-25T08:55:20,069665600+00:00 | gunicorn/run | ###############################################\n2022-05-25T08:55:20,075926700+00:00 | gunicorn/run | \n2022-05-25T08:55:20,080556600+00:00 | gunicorn/run | \n2022-05-25T08:55:20,083993700+00:00 | gunicorn/run | Starting HTTP server\n2022-05-25T08:55:20,086265900+00:00 | gunicorn/run | \nStarting gunicorn 20.1.0\nListening at: http://127.0.0.1:31311 (74)\nUsing worker: sync\nworker timeout is set to 300\nBooting worker with pid: 123\nSPARK_HOME not set. Skipping PySpark Initialization.\nInitializing logger\n2022-05-25 08:55:22,510 | root | INFO | Starting up app insights client\nlogging socket was found. logging is available.\nlogging socket was found. logging is available.\n2022-05-25 08:55:22,511 | root | INFO | Starting up request id generator\n2022-05-25 08:55:22,512 | root | INFO | Starting up app insight hooks\n2022-05-25 08:55:22,512 | root | INFO | Invoking user's init function\n2022-05-25 08:55:33,382 | root | INFO | Users's init has completed successfully\n2022-05-25 08:55:33,411 | root | INFO | Skipping middleware: dbg_model_info as it's not enabled.\n2022-05-25 08:55:33,411 | root | INFO | Skipping middleware: dbg_resource_usage as it's not enabled.\nGenerating swagger file: /tmp/tmpoiwg3h_2\n2022-05-25 08:55:33,420 | root | INFO | Scoring timeout is found from os.environ: 60000 ms\n2022-05-25 08:55:33,443 | root | INFO | 200\n127.0.0.1 - - [25/May/2022:08:55:33 +0000] \"GET /swagger.json HTTP/1.0\" 200 2963 \"-\" \"Go-http-client/1.1\"\n2022-05-25 08:55:35,477 | root | INFO | 200\n127.0.0.1 - - [25/May/2022:08:55:35 +0000] \"GET /swagger.json HTTP/1.0\" 200 2963 \"-\" \"Go-http-client/1.1\"\n2022-05-25 08:57:08,174 | root | INFO | Validation Request Content-Type\n2022-05-25 08:57:08,174 | root | INFO | Scoring Timer is set to 60.0 seconds\n2022-05-25 08:57:08,411 | root | INFO | 200\n127.0.0.1 - - [25/May/2022:08:57:08 +0000] \"POST /score HTTP/1.0\" 200 31 \"-\" \"python-requests/2.27.1\"\n\n"
        }
      ],
      "execution_count": 23,
      "metadata": {
        "jupyter": {
          "outputs_hidden": false,
          "source_hidden": false
        },
        "nteract": {
          "transient": {
            "deleting": false
          }
        },
        "gather": {
          "logged": 1653469036206
        }
      }
    },
    {
      "cell_type": "markdown",
      "source": [
        "**Submission Checklist**\n",
        "- I have registered the model.\n",
        "- I have deployed the model with the best accuracy as a webservice.\n",
        "- I have tested the webservice by sending a request to the model endpoint.\n",
        "- I have deleted the webservice and shutdown all the computes that I have used.\n",
        "- I have taken a screenshot showing the model endpoint as active.\n",
        "- The project includes a file containing the environment details.\n"
      ],
      "metadata": {}
    },
    {
      "cell_type": "markdown",
      "source": [],
      "metadata": {}
    },
    {
      "cell_type": "code",
      "source": [
        "service.delete()"
      ],
      "outputs": [],
      "execution_count": 24,
      "metadata": {
        "collapsed": false,
        "pycharm": {
          "name": "#%%\n"
        },
        "gather": {
          "logged": 1653469080538
        }
      }
    }
  ],
  "metadata": {
    "kernel_info": {
      "name": "python3"
    },
    "kernelspec": {
      "name": "python3",
      "language": "python",
      "display_name": "Python 3"
    },
    "language_info": {
      "name": "python",
      "version": "3.8.5",
      "mimetype": "text/x-python",
      "codemirror_mode": {
        "name": "ipython",
        "version": 3
      },
      "pygments_lexer": "ipython3",
      "nbconvert_exporter": "python",
      "file_extension": ".py"
    },
    "nteract": {
      "version": "nteract-front-end@1.0.0"
    },
    "microsoft": {
      "host": {
        "AzureML": {
          "notebookHasBeenCompleted": true
        }
      }
    }
  },
  "nbformat": 4,
  "nbformat_minor": 2
}